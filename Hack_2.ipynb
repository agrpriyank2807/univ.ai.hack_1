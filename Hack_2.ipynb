{
  "nbformat": 4,
  "nbformat_minor": 0,
  "metadata": {
    "colab": {
      "name": "Hack_2.ipynb",
      "provenance": [],
      "collapsed_sections": [],
      "mount_file_id": "1Klho4gzm2WSddZhtam4ny7VCTAE3Th8v",
      "authorship_tag": "ABX9TyOTd4Ifxj2FVBGetNKz/k1l",
      "include_colab_link": true
    },
    "kernelspec": {
      "display_name": "Python 3",
      "name": "python3"
    },
    "language_info": {
      "name": "python"
    }
  },
  "cells": [
    {
      "cell_type": "markdown",
      "metadata": {
        "id": "view-in-github",
        "colab_type": "text"
      },
      "source": [
        "<a href=\"https://colab.research.google.com/github/agrpriyank2807/univ.ai.hack_1/blob/main/Hack_2.ipynb\" target=\"_parent\"><img src=\"https://colab.research.google.com/assets/colab-badge.svg\" alt=\"Open In Colab\"/></a>"
      ]
    },
    {
      "cell_type": "code",
      "metadata": {
        "id": "ds7kt3yvkaXt"
      },
      "source": [
        "import pandas as pd\n",
        "import numpy as np\n",
        "import matplotlib.pyplot as plt\n",
        "import seaborn as sns\n",
        "from sklearn.preprocessing import LabelEncoder\n",
        "from sklearn.preprocessing import StandardScaler\n",
        "from statsmodels.stats.outliers_influence import variance_inflation_factor \n",
        "import sys\n",
        "import graphviz\n",
        "from sklearn.tree import DecisionTreeClassifier, export_graphviz\n",
        "from sklearn import tree\n",
        "from sklearn.model_selection import train_test_split,GridSearchCV\n",
        "from sklearn.preprocessing import StandardScaler\n",
        "from sklearn.metrics import accuracy_score, confusion_matrix, roc_curve, roc_auc_score\n",
        "from sklearn.externals.six import StringIO  \n",
        "from IPython.display import Image  \n",
        "from sklearn.tree import export_graphviz\n",
        "import pydotplus\n",
        "from sklearn.ensemble import RandomForestClassifier\n",
        "from sklearn.ensemble import GradientBoostingClassifier\n",
        "from sklearn.neighbors import KNeighborsClassifier\n",
        "from sklearn.svm import SVC\n",
        "import xgboost as xgb\n",
        "import pickle\n",
        "from xgboost import XGBClassifier\n",
        "from sklearn import metrics\n",
        "from sklearn.metrics import accuracy_score\n",
        "from sklearn.naive_bayes import GaussianNB\n",
        "from sklearn.preprocessing import LabelEncoder\n",
        "from keras.utils import to_categorical\n",
        "from sklearn.preprocessing import OneHotEncoder\n",
        "from sklearn.model_selection import cross_val_score\n",
        "from sklearn.model_selection import RepeatedStratifiedKFold\n",
        "from sklearn.model_selection import StratifiedKFold\n",
        "from sklearn.ensemble import AdaBoostClassifier\n",
        "from sklearn.datasets import make_classification\n",
        "from sklearn.metrics import roc_auc_score\n",
        "from sklearn.preprocessing import label_binarize\n",
        "from sklearn.metrics import roc_curve,auc\n",
        "from sklearn.metrics import confusion_matrix\n",
        "from matplotlib import pyplot as plt\n",
        "import time\n",
        "import keras\n",
        "import tensorflow as tf\n",
        "from keras.models import Sequential\n",
        "from keras.layers import Dense\n",
        "from keras.layers import LeakyReLU,PReLU,ELU\n",
        "from keras.layers import Dropout\n",
        "import matplotlib.pyplot as plt\n",
        "from keras.utils import to_categorical\n",
        "from tensorflow import keras\n",
        "from tensorflow.keras import layers\n",
        "!pip install -q -U keras-tuner\n",
        "from kerastuner.tuners import RandomSearch\n",
        "from sklearn.preprocessing import OneHotEncoder \n",
        "from sklearn.compose import ColumnTransformer\n",
        "from keras.wrappers.scikit_learn import KerasClassifier\n",
        "from sklearn.model_selection import GridSearchCV\n",
        "from sklearn.model_selection import cross_val_score\n",
        "from sklearn.model_selection import KFold\n",
        "from sklearn.metrics import roc_auc_score\n",
        "from keras.utils import np_utils"
      ],
      "execution_count": null,
      "outputs": []
    },
    {
      "cell_type": "code",
      "metadata": {
        "id": "6UjitNAZkpTh"
      },
      "source": [
        "train_data=pd.read_csv('/content/drive/MyDrive/Univ.AI_hackathon/Training Data.csv')"
      ],
      "execution_count": null,
      "outputs": []
    },
    {
      "cell_type": "code",
      "metadata": {
        "id": "73qpSvfdlTJK"
      },
      "source": [
        "train_data=train_data.drop(columns=['Id'])\n",
        "le=LabelEncoder()\n",
        "train_data['married']=(le.fit_transform(train_data['married'].astype('str')))\n",
        "train_data['house_ownership']=le.fit_transform(train_data['house_ownership'].astype('str'))\n",
        "train_data['car_ownership']=le.fit_transform(train_data['car_ownership'].astype('str'))\n",
        "train_data['profession']=le.fit_transform(train_data['profession'].astype('str'))\n",
        "train_data['city']=le.fit_transform(train_data['city'].astype('str'))\n",
        "train_data['state']=le.fit_transform(train_data['state'].astype('str'))\n",
        "train_x=train_data.drop(columns=['risk_flag'])\n",
        "train_y=train_data['risk_flag']"
      ],
      "execution_count": null,
      "outputs": []
    },
    {
      "cell_type": "code",
      "metadata": {
        "id": "T6PxSSDHxR0g"
      },
      "source": [
        "test_data=pd.read_csv('/content/drive/MyDrive/Univ.AI_hackathon/Test Data.csv')"
      ],
      "execution_count": null,
      "outputs": []
    },
    {
      "cell_type": "code",
      "metadata": {
        "colab": {
          "base_uri": "https://localhost:8080/",
          "height": 195
        },
        "id": "vFoV8Uewx_z8",
        "outputId": "66bc39c3-5698-473e-d683-cdf9402b6f12"
      },
      "source": [
        "test_data=test_data.drop(columns='id',axis=1)\n",
        "test_data.head()"
      ],
      "execution_count": null,
      "outputs": [
        {
          "output_type": "execute_result",
          "data": {
            "text/html": [
              "<div>\n",
              "<style scoped>\n",
              "    .dataframe tbody tr th:only-of-type {\n",
              "        vertical-align: middle;\n",
              "    }\n",
              "\n",
              "    .dataframe tbody tr th {\n",
              "        vertical-align: top;\n",
              "    }\n",
              "\n",
              "    .dataframe thead th {\n",
              "        text-align: right;\n",
              "    }\n",
              "</style>\n",
              "<table border=\"1\" class=\"dataframe\">\n",
              "  <thead>\n",
              "    <tr style=\"text-align: right;\">\n",
              "      <th></th>\n",
              "      <th>income</th>\n",
              "      <th>age</th>\n",
              "      <th>experience</th>\n",
              "      <th>married</th>\n",
              "      <th>house_ownership</th>\n",
              "      <th>car_ownership</th>\n",
              "      <th>profession</th>\n",
              "      <th>city</th>\n",
              "      <th>state</th>\n",
              "      <th>current_job_years</th>\n",
              "      <th>current_house_years</th>\n",
              "    </tr>\n",
              "  </thead>\n",
              "  <tbody>\n",
              "    <tr>\n",
              "      <th>0</th>\n",
              "      <td>7393090</td>\n",
              "      <td>59</td>\n",
              "      <td>19</td>\n",
              "      <td>single</td>\n",
              "      <td>rented</td>\n",
              "      <td>no</td>\n",
              "      <td>Geologist</td>\n",
              "      <td>Malda</td>\n",
              "      <td>West Bengal</td>\n",
              "      <td>4</td>\n",
              "      <td>13</td>\n",
              "    </tr>\n",
              "    <tr>\n",
              "      <th>1</th>\n",
              "      <td>1215004</td>\n",
              "      <td>25</td>\n",
              "      <td>5</td>\n",
              "      <td>single</td>\n",
              "      <td>rented</td>\n",
              "      <td>no</td>\n",
              "      <td>Firefighter</td>\n",
              "      <td>Jalna</td>\n",
              "      <td>Maharashtra</td>\n",
              "      <td>5</td>\n",
              "      <td>10</td>\n",
              "    </tr>\n",
              "    <tr>\n",
              "      <th>2</th>\n",
              "      <td>8901342</td>\n",
              "      <td>50</td>\n",
              "      <td>12</td>\n",
              "      <td>single</td>\n",
              "      <td>rented</td>\n",
              "      <td>no</td>\n",
              "      <td>Lawyer</td>\n",
              "      <td>Thane</td>\n",
              "      <td>Maharashtra</td>\n",
              "      <td>9</td>\n",
              "      <td>14</td>\n",
              "    </tr>\n",
              "    <tr>\n",
              "      <th>3</th>\n",
              "      <td>1944421</td>\n",
              "      <td>49</td>\n",
              "      <td>9</td>\n",
              "      <td>married</td>\n",
              "      <td>rented</td>\n",
              "      <td>yes</td>\n",
              "      <td>Analyst</td>\n",
              "      <td>Latur</td>\n",
              "      <td>Maharashtra</td>\n",
              "      <td>3</td>\n",
              "      <td>12</td>\n",
              "    </tr>\n",
              "    <tr>\n",
              "      <th>4</th>\n",
              "      <td>13429</td>\n",
              "      <td>25</td>\n",
              "      <td>18</td>\n",
              "      <td>single</td>\n",
              "      <td>rented</td>\n",
              "      <td>yes</td>\n",
              "      <td>Comedian</td>\n",
              "      <td>Berhampore</td>\n",
              "      <td>West Bengal</td>\n",
              "      <td>13</td>\n",
              "      <td>11</td>\n",
              "    </tr>\n",
              "  </tbody>\n",
              "</table>\n",
              "</div>"
            ],
            "text/plain": [
              "    income  age  ...  current_job_years current_house_years\n",
              "0  7393090   59  ...                  4                  13\n",
              "1  1215004   25  ...                  5                  10\n",
              "2  8901342   50  ...                  9                  14\n",
              "3  1944421   49  ...                  3                  12\n",
              "4    13429   25  ...                 13                  11\n",
              "\n",
              "[5 rows x 11 columns]"
            ]
          },
          "metadata": {
            "tags": []
          },
          "execution_count": 78
        }
      ]
    },
    {
      "cell_type": "code",
      "metadata": {
        "id": "f6vxYg00yHCC"
      },
      "source": [
        "test_data['married']=(le.fit_transform(test_data['married'].astype('str')))\n",
        "test_data['house_ownership']=le.fit_transform(test_data['house_ownership'].astype('str'))\n",
        "test_data['car_ownership']=le.fit_transform(test_data['car_ownership'].astype('str'))\n",
        "test_data['profession']=le.fit_transform(test_data['profession'].astype('str'))\n",
        "test_data['city']=le.fit_transform(test_data['city'].astype('str'))\n",
        "test_data['state']=le.fit_transform(test_data['state'].astype('str'))"
      ],
      "execution_count": null,
      "outputs": []
    },
    {
      "cell_type": "code",
      "metadata": {
        "id": "H47BGrVymoVC"
      },
      "source": [
        "X = train_data.drop(columns = ['risk_flag']) #Independent_features\n",
        "y = train_data['risk_flag'] #Dependent_features\n",
        "encoder = LabelEncoder()\n",
        "encoder.fit(y)\n",
        "encoded_y = encoder.transform(y)\n",
        "# convert integers to dummy variables (i.e. one hot encoded)\n",
        "dummy_y = np_utils.to_categorical(encoded_y)\n",
        "X1=train_data['married']\n",
        "X2=train_data['house_ownership']\n",
        "X3=train_data['car_ownership']\n",
        "X4=train_data['profession']\n",
        "X5=train_data['city']\n",
        "X6=train_data['state']\n",
        "encoded_X1 = encoder.fit_transform(X1)\n",
        "encoded_X2 = encoder.fit_transform(X2)\n",
        "encoded_X3 = encoder.fit_transform(X3)\n",
        "encoded_X4 = encoder.fit_transform(X4)\n",
        "encoded_X5 = encoder.fit_transform(X5)\n",
        "encoded_X6 = encoder.fit_transform(X6)\n",
        "# convert integers to dummy variables (i.e. one hot encoded)\n",
        "dummy_X1 = pd.DataFrame(np_utils.to_categorical(encoded_X1))\n",
        "dummy_X2 = pd.DataFrame(np_utils.to_categorical(encoded_X2))\n",
        "dummy_X3 = pd.DataFrame(np_utils.to_categorical(encoded_X3))\n",
        "dummy_X4 = pd.DataFrame(np_utils.to_categorical(encoded_X4))\n",
        "dummy_X5 = pd.DataFrame(np_utils.to_categorical(encoded_X5))\n",
        "dummy_X6 = pd.DataFrame(np_utils.to_categorical(encoded_X6))\n",
        "X=pd.concat([dummy_X1,dummy_X2,dummy_X3,dummy_X4,dummy_X5,dummy_X6,train_data['income'],train_data['age'],train_data['experience'],train_data['current_job_years'],train_data['current_house_years']],axis=1)\n",
        "X_train, X_test, y_train, y_test = train_test_split(X, dummy_y, test_size = 0.15, random_state = 0)"
      ],
      "execution_count": null,
      "outputs": []
    },
    {
      "cell_type": "code",
      "metadata": {
        "id": "vwoolRQGoYcS"
      },
      "source": [
        "sc = StandardScaler(with_mean=False)\n",
        "X_train = sc.fit_transform(X_train)\n",
        "X_test = sc.transform(X_test)"
      ],
      "execution_count": null,
      "outputs": []
    },
    {
      "cell_type": "code",
      "metadata": {
        "colab": {
          "base_uri": "https://localhost:8080/",
          "height": 1000
        },
        "id": "zomvZmHSoZdy",
        "outputId": "ce02a92d-265c-486d-929c-2691c441a703"
      },
      "source": [
        "# Initialising the ANN\n",
        "classifier_1 = Sequential()\n",
        "\n",
        "# Adding the input layer and the first hidden layer\n",
        "classifier_1.add(Dense(units = 512, kernel_initializer = 'uniform',activation='relu',input_dim = 409))\n",
        "classifier_1.add(Dropout(0.2))\n",
        "# Adding the second hidden layer\n",
        "classifier_1.add(Dense(units = 32, kernel_initializer = 'uniform',activation='relu'))\n",
        "classifier_1.add(Dropout(0.2))\n",
        "classifier_1.add(Dense(units = 32, kernel_initializer = 'uniform',activation='relu'))\n",
        "classifier_1.add(Dropout(0.2))\n",
        "classifier_1.add(Dense(units = 32, kernel_initializer = 'uniform',activation='relu'))\n",
        "# classifier.add(Dropout(0.2))\n",
        "classifier_1.add(Dense(units = 32, kernel_initializer = 'uniform',activation='relu'))\n",
        "# Adding the output layer\n",
        "classifier_1.add(Dense(units = 2, kernel_initializer = 'uniform', activation = 'sigmoid'))\n",
        "\n",
        "# Compiling the ANN\n",
        "\n",
        "classifier_1.compile(optimizer = 'Adam', loss='binary_crossentropy', metrics = ['accuracy'])\n",
        "\n",
        "# Fitting the ANN to the Training set\n",
        "model_history=classifier_1.fit(X_train, y_train,validation_split = 0.15, batch_size =500, epochs = 200)\n",
        "\n",
        "# list all data in history\n",
        "\n",
        "print(model_history.history.keys())\n",
        "#summarize history for accuracy\n",
        "plt.plot(model_history.history['accuracy'])\n",
        "plt.plot(model_history.history['val_accuracy'])\n",
        "plt.title('model accuracy')\n",
        "plt.ylabel('accuracy')\n",
        "plt.xlabel('epoch')\n",
        "plt.legend(['train', 'test'], loc='upper left')\n",
        "plt.show()\n",
        "\n",
        "# summarize history for loss\n",
        "plt.plot(model_history.history['loss'])\n",
        "plt.plot(model_history.history['val_loss'])\n",
        "plt.title('model loss')\n",
        "plt.ylabel('loss')\n",
        "plt.xlabel('epoch')\n",
        "plt.legend(['train', 'test'], loc='upper left')\n",
        "plt.show()\n",
        "\n",
        "# Part 3 - Making the predictions and evaluating the model\n",
        "\n",
        "# Predicting the Test set results\n",
        "y_pred = classifier_1.predict(X_test)\n",
        "y_pred = (y_pred > 0.5)\n",
        "\n",
        "# Making the Confusion Matrix\n",
        "from sklearn.metrics import confusion_matrix\n",
        "cm = confusion_matrix(y_test.argmax(axis=1), y_pred.argmax(axis=1))\n",
        "print(\"The confusion matrix is:\",cm) ##plot confusion matrix\n",
        "# Calculate the Accuracy\n",
        "from sklearn.metrics import accuracy_score\n",
        "score = accuracy_score(y_pred,y_test)\n",
        "print(\"The accuracy score with test data is=\",score)\n",
        "\n",
        "# estimator = KerasClassifier(build_fn=classifier, epochs= 30, batch_size=5, verbose=0)\n",
        "# kfold = KFold(n_splits=10, shuffle=True)\n",
        "# results = cross_val_score(estimator, X_test, y_test, cv=kfold)\n",
        "# print(\"Baseline: %.2f%% (%.2f%%)\" % (results.mean()*100, results.std()*100))\n"
      ],
      "execution_count": null,
      "outputs": [
        {
          "output_type": "stream",
          "text": [
            "Epoch 1/200\n",
            "365/365 [==============================] - 5s 6ms/step - loss: 0.4430 - accuracy: 0.8765 - val_loss: 0.3423 - val_accuracy: 0.8781\n",
            "Epoch 2/200\n",
            "365/365 [==============================] - 2s 6ms/step - loss: 0.3229 - accuracy: 0.8753 - val_loss: 0.2570 - val_accuracy: 0.8877\n",
            "Epoch 3/200\n",
            "365/365 [==============================] - 2s 6ms/step - loss: 0.2562 - accuracy: 0.8897 - val_loss: 0.2439 - val_accuracy: 0.8951\n",
            "Epoch 4/200\n",
            "365/365 [==============================] - 2s 5ms/step - loss: 0.2369 - accuracy: 0.8955 - val_loss: 0.2385 - val_accuracy: 0.8953\n",
            "Epoch 5/200\n",
            "365/365 [==============================] - 2s 6ms/step - loss: 0.2251 - accuracy: 0.8974 - val_loss: 0.2356 - val_accuracy: 0.8977\n",
            "Epoch 6/200\n",
            "365/365 [==============================] - 2s 6ms/step - loss: 0.2137 - accuracy: 0.8980 - val_loss: 0.2384 - val_accuracy: 0.8961\n",
            "Epoch 7/200\n",
            "365/365 [==============================] - 2s 6ms/step - loss: 0.2064 - accuracy: 0.9000 - val_loss: 0.2385 - val_accuracy: 0.8957\n",
            "Epoch 8/200\n",
            "365/365 [==============================] - 2s 6ms/step - loss: 0.2019 - accuracy: 0.9006 - val_loss: 0.2438 - val_accuracy: 0.8954\n",
            "Epoch 9/200\n",
            "365/365 [==============================] - 2s 5ms/step - loss: 0.1939 - accuracy: 0.9026 - val_loss: 0.2354 - val_accuracy: 0.8942\n",
            "Epoch 10/200\n",
            "365/365 [==============================] - 2s 6ms/step - loss: 0.1887 - accuracy: 0.9038 - val_loss: 0.2369 - val_accuracy: 0.8956\n",
            "Epoch 11/200\n",
            "365/365 [==============================] - 2s 6ms/step - loss: 0.1853 - accuracy: 0.9032 - val_loss: 0.2463 - val_accuracy: 0.8954\n",
            "Epoch 12/200\n",
            "365/365 [==============================] - 2s 6ms/step - loss: 0.1809 - accuracy: 0.9052 - val_loss: 0.2397 - val_accuracy: 0.8932\n",
            "Epoch 13/200\n",
            "365/365 [==============================] - 2s 6ms/step - loss: 0.1791 - accuracy: 0.9062 - val_loss: 0.2428 - val_accuracy: 0.8936\n",
            "Epoch 14/200\n",
            "365/365 [==============================] - 2s 6ms/step - loss: 0.1771 - accuracy: 0.9062 - val_loss: 0.2579 - val_accuracy: 0.8958\n",
            "Epoch 15/200\n",
            "365/365 [==============================] - 2s 6ms/step - loss: 0.1751 - accuracy: 0.9062 - val_loss: 0.2450 - val_accuracy: 0.8942\n",
            "Epoch 16/200\n",
            "365/365 [==============================] - 2s 6ms/step - loss: 0.1728 - accuracy: 0.9066 - val_loss: 0.2594 - val_accuracy: 0.8933\n",
            "Epoch 17/200\n",
            "365/365 [==============================] - 2s 6ms/step - loss: 0.1714 - accuracy: 0.9077 - val_loss: 0.2609 - val_accuracy: 0.8918\n",
            "Epoch 18/200\n",
            "365/365 [==============================] - 2s 6ms/step - loss: 0.1681 - accuracy: 0.9086 - val_loss: 0.2693 - val_accuracy: 0.8944\n",
            "Epoch 19/200\n",
            "365/365 [==============================] - 2s 6ms/step - loss: 0.1667 - accuracy: 0.9098 - val_loss: 0.2712 - val_accuracy: 0.8923\n",
            "Epoch 20/200\n",
            "365/365 [==============================] - 2s 6ms/step - loss: 0.1647 - accuracy: 0.9105 - val_loss: 0.2728 - val_accuracy: 0.8889\n",
            "Epoch 21/200\n",
            "365/365 [==============================] - 2s 6ms/step - loss: 0.1635 - accuracy: 0.9116 - val_loss: 0.2700 - val_accuracy: 0.8914\n",
            "Epoch 22/200\n",
            "365/365 [==============================] - 2s 6ms/step - loss: 0.1633 - accuracy: 0.9119 - val_loss: 0.2872 - val_accuracy: 0.8936\n",
            "Epoch 23/200\n",
            "365/365 [==============================] - 2s 6ms/step - loss: 0.1611 - accuracy: 0.9125 - val_loss: 0.2962 - val_accuracy: 0.8928\n",
            "Epoch 24/200\n",
            "365/365 [==============================] - 2s 6ms/step - loss: 0.1609 - accuracy: 0.9120 - val_loss: 0.3024 - val_accuracy: 0.8933\n",
            "Epoch 25/200\n",
            "365/365 [==============================] - 2s 6ms/step - loss: 0.1594 - accuracy: 0.9128 - val_loss: 0.3012 - val_accuracy: 0.8903\n",
            "Epoch 26/200\n",
            "365/365 [==============================] - 2s 6ms/step - loss: 0.1604 - accuracy: 0.9129 - val_loss: 0.2846 - val_accuracy: 0.8893\n",
            "Epoch 27/200\n",
            "365/365 [==============================] - 2s 6ms/step - loss: 0.1586 - accuracy: 0.9135 - val_loss: 0.2976 - val_accuracy: 0.8914\n",
            "Epoch 28/200\n",
            "365/365 [==============================] - 2s 6ms/step - loss: 0.1557 - accuracy: 0.9153 - val_loss: 0.2870 - val_accuracy: 0.8909\n",
            "Epoch 29/200\n",
            "365/365 [==============================] - 2s 6ms/step - loss: 0.1569 - accuracy: 0.9135 - val_loss: 0.2829 - val_accuracy: 0.8889\n",
            "Epoch 30/200\n",
            "365/365 [==============================] - 2s 6ms/step - loss: 0.1560 - accuracy: 0.9153 - val_loss: 0.3065 - val_accuracy: 0.8926\n",
            "Epoch 31/200\n",
            "365/365 [==============================] - 2s 6ms/step - loss: 0.1549 - accuracy: 0.9159 - val_loss: 0.2939 - val_accuracy: 0.8858\n",
            "Epoch 32/200\n",
            "365/365 [==============================] - 2s 6ms/step - loss: 0.1543 - accuracy: 0.9160 - val_loss: 0.3012 - val_accuracy: 0.8892\n",
            "Epoch 33/200\n",
            "365/365 [==============================] - 2s 6ms/step - loss: 0.1533 - accuracy: 0.9156 - val_loss: 0.2897 - val_accuracy: 0.8881\n",
            "Epoch 34/200\n",
            "365/365 [==============================] - 2s 6ms/step - loss: 0.1513 - accuracy: 0.9178 - val_loss: 0.3142 - val_accuracy: 0.8909\n",
            "Epoch 35/200\n",
            "365/365 [==============================] - 2s 6ms/step - loss: 0.1522 - accuracy: 0.9163 - val_loss: 0.3393 - val_accuracy: 0.8910\n",
            "Epoch 36/200\n",
            "365/365 [==============================] - 2s 6ms/step - loss: 0.1519 - accuracy: 0.9162 - val_loss: 0.2994 - val_accuracy: 0.8890\n",
            "Epoch 37/200\n",
            "365/365 [==============================] - 2s 6ms/step - loss: 0.1499 - accuracy: 0.9187 - val_loss: 0.3064 - val_accuracy: 0.8880\n",
            "Epoch 38/200\n",
            "365/365 [==============================] - 2s 6ms/step - loss: 0.1503 - accuracy: 0.9174 - val_loss: 0.3296 - val_accuracy: 0.8892\n",
            "Epoch 39/200\n",
            "365/365 [==============================] - 2s 6ms/step - loss: 0.1505 - accuracy: 0.9174 - val_loss: 0.3525 - val_accuracy: 0.8908\n",
            "Epoch 40/200\n",
            "365/365 [==============================] - 2s 6ms/step - loss: 0.1498 - accuracy: 0.9183 - val_loss: 0.3216 - val_accuracy: 0.8880\n",
            "Epoch 41/200\n",
            "365/365 [==============================] - 2s 6ms/step - loss: 0.1471 - accuracy: 0.9200 - val_loss: 0.3157 - val_accuracy: 0.8887\n",
            "Epoch 42/200\n",
            "365/365 [==============================] - 2s 6ms/step - loss: 0.1490 - accuracy: 0.9192 - val_loss: 0.3465 - val_accuracy: 0.8903\n",
            "Epoch 43/200\n",
            "365/365 [==============================] - 2s 6ms/step - loss: 0.1464 - accuracy: 0.9198 - val_loss: 0.3610 - val_accuracy: 0.8903\n",
            "Epoch 44/200\n",
            "365/365 [==============================] - 2s 6ms/step - loss: 0.1457 - accuracy: 0.9209 - val_loss: 0.3305 - val_accuracy: 0.8904\n",
            "Epoch 45/200\n",
            "365/365 [==============================] - 2s 6ms/step - loss: 0.1458 - accuracy: 0.9194 - val_loss: 0.3600 - val_accuracy: 0.8915\n",
            "Epoch 46/200\n",
            "365/365 [==============================] - 2s 6ms/step - loss: 0.1467 - accuracy: 0.9194 - val_loss: 0.3350 - val_accuracy: 0.8874\n",
            "Epoch 47/200\n",
            "365/365 [==============================] - 2s 6ms/step - loss: 0.1462 - accuracy: 0.9189 - val_loss: 0.3726 - val_accuracy: 0.8881\n",
            "Epoch 48/200\n",
            "365/365 [==============================] - 2s 6ms/step - loss: 0.1451 - accuracy: 0.9204 - val_loss: 0.3225 - val_accuracy: 0.8892\n",
            "Epoch 49/200\n",
            "365/365 [==============================] - 2s 6ms/step - loss: 0.1452 - accuracy: 0.9209 - val_loss: 0.3476 - val_accuracy: 0.8879\n",
            "Epoch 50/200\n",
            "365/365 [==============================] - 2s 6ms/step - loss: 0.1434 - accuracy: 0.9210 - val_loss: 0.3233 - val_accuracy: 0.8883\n",
            "Epoch 51/200\n",
            "365/365 [==============================] - 2s 6ms/step - loss: 0.1442 - accuracy: 0.9203 - val_loss: 0.3473 - val_accuracy: 0.8887\n",
            "Epoch 52/200\n",
            "365/365 [==============================] - 2s 6ms/step - loss: 0.1420 - accuracy: 0.9226 - val_loss: 0.3965 - val_accuracy: 0.8921\n",
            "Epoch 53/200\n",
            "365/365 [==============================] - 2s 6ms/step - loss: 0.1442 - accuracy: 0.9211 - val_loss: 0.3625 - val_accuracy: 0.8886\n",
            "Epoch 54/200\n",
            "365/365 [==============================] - 2s 6ms/step - loss: 0.1412 - accuracy: 0.9232 - val_loss: 0.3696 - val_accuracy: 0.8884\n",
            "Epoch 55/200\n",
            "365/365 [==============================] - 2s 6ms/step - loss: 0.1410 - accuracy: 0.9225 - val_loss: 0.3567 - val_accuracy: 0.8887\n",
            "Epoch 56/200\n",
            "365/365 [==============================] - 2s 6ms/step - loss: 0.1406 - accuracy: 0.9234 - val_loss: 0.3735 - val_accuracy: 0.8870\n",
            "Epoch 57/200\n",
            "365/365 [==============================] - 2s 6ms/step - loss: 0.1401 - accuracy: 0.9226 - val_loss: 0.3709 - val_accuracy: 0.8866\n",
            "Epoch 58/200\n",
            "365/365 [==============================] - 2s 6ms/step - loss: 0.1394 - accuracy: 0.9226 - val_loss: 0.3843 - val_accuracy: 0.8899\n",
            "Epoch 59/200\n",
            "365/365 [==============================] - 2s 6ms/step - loss: 0.1410 - accuracy: 0.9219 - val_loss: 0.3790 - val_accuracy: 0.8895\n",
            "Epoch 60/200\n",
            "365/365 [==============================] - 2s 6ms/step - loss: 0.1384 - accuracy: 0.9233 - val_loss: 0.3822 - val_accuracy: 0.8886\n",
            "Epoch 61/200\n",
            "365/365 [==============================] - 2s 6ms/step - loss: 0.1401 - accuracy: 0.9227 - val_loss: 0.3869 - val_accuracy: 0.8867\n",
            "Epoch 62/200\n",
            "365/365 [==============================] - 2s 6ms/step - loss: 0.1397 - accuracy: 0.9227 - val_loss: 0.3895 - val_accuracy: 0.8901\n",
            "Epoch 63/200\n",
            "365/365 [==============================] - 2s 6ms/step - loss: 0.1377 - accuracy: 0.9241 - val_loss: 0.3804 - val_accuracy: 0.8898\n",
            "Epoch 64/200\n",
            "365/365 [==============================] - 2s 6ms/step - loss: 0.1389 - accuracy: 0.9236 - val_loss: 0.3812 - val_accuracy: 0.8910\n",
            "Epoch 65/200\n",
            "365/365 [==============================] - 2s 6ms/step - loss: 0.1377 - accuracy: 0.9230 - val_loss: 0.3991 - val_accuracy: 0.8904\n",
            "Epoch 66/200\n",
            "365/365 [==============================] - 2s 6ms/step - loss: 0.1372 - accuracy: 0.9245 - val_loss: 0.4114 - val_accuracy: 0.8915\n",
            "Epoch 67/200\n",
            "365/365 [==============================] - 2s 6ms/step - loss: 0.1373 - accuracy: 0.9246 - val_loss: 0.3756 - val_accuracy: 0.8896\n",
            "Epoch 68/200\n",
            "365/365 [==============================] - 2s 6ms/step - loss: 0.1377 - accuracy: 0.9241 - val_loss: 0.4166 - val_accuracy: 0.8898\n",
            "Epoch 69/200\n",
            "365/365 [==============================] - 2s 5ms/step - loss: 0.1368 - accuracy: 0.9239 - val_loss: 0.3792 - val_accuracy: 0.8888\n",
            "Epoch 70/200\n",
            "365/365 [==============================] - 2s 6ms/step - loss: 0.1361 - accuracy: 0.9243 - val_loss: 0.4106 - val_accuracy: 0.8901\n",
            "Epoch 71/200\n",
            "365/365 [==============================] - 2s 6ms/step - loss: 0.1347 - accuracy: 0.9253 - val_loss: 0.4014 - val_accuracy: 0.8908\n",
            "Epoch 72/200\n",
            "365/365 [==============================] - 2s 6ms/step - loss: 0.1361 - accuracy: 0.9244 - val_loss: 0.3774 - val_accuracy: 0.8881\n",
            "Epoch 73/200\n",
            "365/365 [==============================] - 2s 6ms/step - loss: 0.1358 - accuracy: 0.9246 - val_loss: 0.3844 - val_accuracy: 0.8900\n",
            "Epoch 74/200\n",
            "365/365 [==============================] - 2s 6ms/step - loss: 0.1341 - accuracy: 0.9263 - val_loss: 0.4259 - val_accuracy: 0.8898\n",
            "Epoch 75/200\n",
            "365/365 [==============================] - 2s 6ms/step - loss: 0.1348 - accuracy: 0.9258 - val_loss: 0.4080 - val_accuracy: 0.8888\n",
            "Epoch 76/200\n",
            "365/365 [==============================] - 2s 6ms/step - loss: 0.1339 - accuracy: 0.9263 - val_loss: 0.4318 - val_accuracy: 0.8888\n",
            "Epoch 77/200\n",
            "365/365 [==============================] - 2s 6ms/step - loss: 0.1339 - accuracy: 0.9254 - val_loss: 0.4458 - val_accuracy: 0.8897\n",
            "Epoch 78/200\n",
            "365/365 [==============================] - 2s 6ms/step - loss: 0.1344 - accuracy: 0.9261 - val_loss: 0.4193 - val_accuracy: 0.8889\n",
            "Epoch 79/200\n",
            "365/365 [==============================] - 2s 6ms/step - loss: 0.1334 - accuracy: 0.9255 - val_loss: 0.3898 - val_accuracy: 0.8876\n",
            "Epoch 80/200\n",
            "365/365 [==============================] - 2s 6ms/step - loss: 0.1327 - accuracy: 0.9255 - val_loss: 0.3967 - val_accuracy: 0.8899\n",
            "Epoch 81/200\n",
            "365/365 [==============================] - 2s 6ms/step - loss: 0.1335 - accuracy: 0.9253 - val_loss: 0.3827 - val_accuracy: 0.8882\n",
            "Epoch 82/200\n",
            "365/365 [==============================] - 2s 6ms/step - loss: 0.1337 - accuracy: 0.9255 - val_loss: 0.4043 - val_accuracy: 0.8884\n",
            "Epoch 83/200\n",
            "365/365 [==============================] - 2s 6ms/step - loss: 0.1337 - accuracy: 0.9255 - val_loss: 0.4141 - val_accuracy: 0.8877\n",
            "Epoch 84/200\n",
            "365/365 [==============================] - 2s 6ms/step - loss: 0.1325 - accuracy: 0.9259 - val_loss: 0.4014 - val_accuracy: 0.8876\n",
            "Epoch 85/200\n",
            "365/365 [==============================] - 2s 6ms/step - loss: 0.1341 - accuracy: 0.9253 - val_loss: 0.3849 - val_accuracy: 0.8898\n",
            "Epoch 86/200\n",
            "365/365 [==============================] - 2s 6ms/step - loss: 0.1324 - accuracy: 0.9259 - val_loss: 0.4051 - val_accuracy: 0.8887\n",
            "Epoch 87/200\n",
            "365/365 [==============================] - 2s 6ms/step - loss: 0.1321 - accuracy: 0.9266 - val_loss: 0.4175 - val_accuracy: 0.8893\n",
            "Epoch 88/200\n",
            "365/365 [==============================] - 2s 6ms/step - loss: 0.1315 - accuracy: 0.9267 - val_loss: 0.4356 - val_accuracy: 0.8902\n",
            "Epoch 89/200\n",
            "365/365 [==============================] - 2s 6ms/step - loss: 0.1325 - accuracy: 0.9256 - val_loss: 0.4460 - val_accuracy: 0.8877\n",
            "Epoch 90/200\n",
            "365/365 [==============================] - 2s 6ms/step - loss: 0.1318 - accuracy: 0.9265 - val_loss: 0.4517 - val_accuracy: 0.8901\n",
            "Epoch 91/200\n",
            "365/365 [==============================] - 2s 6ms/step - loss: 0.1322 - accuracy: 0.9265 - val_loss: 0.4426 - val_accuracy: 0.8911\n",
            "Epoch 92/200\n",
            "365/365 [==============================] - 2s 6ms/step - loss: 0.1309 - accuracy: 0.9269 - val_loss: 0.4546 - val_accuracy: 0.8893\n",
            "Epoch 93/200\n",
            "365/365 [==============================] - 2s 6ms/step - loss: 0.1318 - accuracy: 0.9269 - val_loss: 0.4354 - val_accuracy: 0.8875\n",
            "Epoch 94/200\n",
            "365/365 [==============================] - 2s 6ms/step - loss: 0.1304 - accuracy: 0.9270 - val_loss: 0.4736 - val_accuracy: 0.8896\n",
            "Epoch 95/200\n",
            "365/365 [==============================] - 2s 6ms/step - loss: 0.1307 - accuracy: 0.9275 - val_loss: 0.4224 - val_accuracy: 0.8890\n",
            "Epoch 96/200\n",
            "365/365 [==============================] - 2s 6ms/step - loss: 0.1301 - accuracy: 0.9268 - val_loss: 0.4431 - val_accuracy: 0.8892\n",
            "Epoch 97/200\n",
            "365/365 [==============================] - 2s 6ms/step - loss: 0.1300 - accuracy: 0.9276 - val_loss: 0.4792 - val_accuracy: 0.8884\n",
            "Epoch 98/200\n",
            "365/365 [==============================] - 2s 6ms/step - loss: 0.1304 - accuracy: 0.9270 - val_loss: 0.4831 - val_accuracy: 0.8885\n",
            "Epoch 99/200\n",
            "365/365 [==============================] - 2s 6ms/step - loss: 0.1305 - accuracy: 0.9275 - val_loss: 0.4400 - val_accuracy: 0.8889\n",
            "Epoch 100/200\n",
            "365/365 [==============================] - 2s 6ms/step - loss: 0.1302 - accuracy: 0.9271 - val_loss: 0.4130 - val_accuracy: 0.8899\n",
            "Epoch 101/200\n",
            "365/365 [==============================] - 2s 6ms/step - loss: 0.1310 - accuracy: 0.9258 - val_loss: 0.4347 - val_accuracy: 0.8892\n",
            "Epoch 102/200\n",
            "365/365 [==============================] - 2s 6ms/step - loss: 0.1287 - accuracy: 0.9281 - val_loss: 0.3874 - val_accuracy: 0.8894\n",
            "Epoch 103/200\n",
            "365/365 [==============================] - 2s 6ms/step - loss: 0.1315 - accuracy: 0.9260 - val_loss: 0.4269 - val_accuracy: 0.8900\n",
            "Epoch 104/200\n",
            "365/365 [==============================] - 2s 6ms/step - loss: 0.1305 - accuracy: 0.9267 - val_loss: 0.4533 - val_accuracy: 0.8906\n",
            "Epoch 105/200\n",
            "365/365 [==============================] - 2s 6ms/step - loss: 0.1288 - accuracy: 0.9276 - val_loss: 0.4404 - val_accuracy: 0.8890\n",
            "Epoch 106/200\n",
            "365/365 [==============================] - 2s 6ms/step - loss: 0.1286 - accuracy: 0.9269 - val_loss: 0.4359 - val_accuracy: 0.8905\n",
            "Epoch 107/200\n",
            "365/365 [==============================] - 2s 6ms/step - loss: 0.1298 - accuracy: 0.9273 - val_loss: 0.4340 - val_accuracy: 0.8911\n",
            "Epoch 108/200\n",
            "365/365 [==============================] - 2s 6ms/step - loss: 0.1296 - accuracy: 0.9284 - val_loss: 0.4448 - val_accuracy: 0.8899\n",
            "Epoch 109/200\n",
            "365/365 [==============================] - 2s 6ms/step - loss: 0.1298 - accuracy: 0.9264 - val_loss: 0.5002 - val_accuracy: 0.8892\n",
            "Epoch 110/200\n",
            "365/365 [==============================] - 2s 6ms/step - loss: 0.1294 - accuracy: 0.9270 - val_loss: 0.4542 - val_accuracy: 0.8899\n",
            "Epoch 111/200\n",
            "365/365 [==============================] - 2s 6ms/step - loss: 0.1286 - accuracy: 0.9277 - val_loss: 0.4285 - val_accuracy: 0.8888\n",
            "Epoch 112/200\n",
            "365/365 [==============================] - 2s 6ms/step - loss: 0.1287 - accuracy: 0.9275 - val_loss: 0.4662 - val_accuracy: 0.8907\n",
            "Epoch 113/200\n",
            "365/365 [==============================] - 2s 6ms/step - loss: 0.1288 - accuracy: 0.9279 - val_loss: 0.4767 - val_accuracy: 0.8895\n",
            "Epoch 114/200\n",
            "365/365 [==============================] - 2s 6ms/step - loss: 0.1283 - accuracy: 0.9283 - val_loss: 0.4501 - val_accuracy: 0.8913\n",
            "Epoch 115/200\n",
            "365/365 [==============================] - 2s 6ms/step - loss: 0.1290 - accuracy: 0.9280 - val_loss: 0.4531 - val_accuracy: 0.8897\n",
            "Epoch 116/200\n",
            "365/365 [==============================] - 2s 6ms/step - loss: 0.1275 - accuracy: 0.9289 - val_loss: 0.4635 - val_accuracy: 0.8888\n",
            "Epoch 117/200\n",
            "365/365 [==============================] - 2s 6ms/step - loss: 0.1278 - accuracy: 0.9278 - val_loss: 0.4443 - val_accuracy: 0.8897\n",
            "Epoch 118/200\n",
            "365/365 [==============================] - 2s 6ms/step - loss: 0.1274 - accuracy: 0.9284 - val_loss: 0.4617 - val_accuracy: 0.8920\n",
            "Epoch 119/200\n",
            "365/365 [==============================] - 2s 6ms/step - loss: 0.1266 - accuracy: 0.9287 - val_loss: 0.4541 - val_accuracy: 0.8901\n",
            "Epoch 120/200\n",
            "365/365 [==============================] - 2s 6ms/step - loss: 0.1271 - accuracy: 0.9288 - val_loss: 0.4764 - val_accuracy: 0.8899\n",
            "Epoch 121/200\n",
            "365/365 [==============================] - 2s 6ms/step - loss: 0.1272 - accuracy: 0.9283 - val_loss: 0.5269 - val_accuracy: 0.8900\n",
            "Epoch 122/200\n",
            "365/365 [==============================] - 2s 6ms/step - loss: 0.1264 - accuracy: 0.9288 - val_loss: 0.4870 - val_accuracy: 0.8908\n",
            "Epoch 123/200\n",
            "365/365 [==============================] - 2s 6ms/step - loss: 0.1266 - accuracy: 0.9291 - val_loss: 0.4886 - val_accuracy: 0.8910\n",
            "Epoch 124/200\n",
            "365/365 [==============================] - 2s 6ms/step - loss: 0.1263 - accuracy: 0.9293 - val_loss: 0.4502 - val_accuracy: 0.8898\n",
            "Epoch 125/200\n",
            "365/365 [==============================] - 2s 6ms/step - loss: 0.1261 - accuracy: 0.9286 - val_loss: 0.4656 - val_accuracy: 0.8899\n",
            "Epoch 126/200\n",
            "365/365 [==============================] - 2s 6ms/step - loss: 0.1271 - accuracy: 0.9280 - val_loss: 0.4622 - val_accuracy: 0.8907\n",
            "Epoch 127/200\n",
            "365/365 [==============================] - 2s 6ms/step - loss: 0.1249 - accuracy: 0.9309 - val_loss: 0.4507 - val_accuracy: 0.8904\n",
            "Epoch 128/200\n",
            "365/365 [==============================] - 2s 6ms/step - loss: 0.1259 - accuracy: 0.9296 - val_loss: 0.5253 - val_accuracy: 0.8906\n",
            "Epoch 129/200\n",
            "365/365 [==============================] - 2s 6ms/step - loss: 0.1269 - accuracy: 0.9283 - val_loss: 0.4723 - val_accuracy: 0.8899\n",
            "Epoch 130/200\n",
            "365/365 [==============================] - 2s 6ms/step - loss: 0.1264 - accuracy: 0.9285 - val_loss: 0.4608 - val_accuracy: 0.8904\n",
            "Epoch 131/200\n",
            "365/365 [==============================] - 2s 6ms/step - loss: 0.1250 - accuracy: 0.9291 - val_loss: 0.4198 - val_accuracy: 0.8900\n",
            "Epoch 132/200\n",
            "365/365 [==============================] - 2s 6ms/step - loss: 0.1252 - accuracy: 0.9295 - val_loss: 0.4927 - val_accuracy: 0.8905\n",
            "Epoch 133/200\n",
            "365/365 [==============================] - 2s 6ms/step - loss: 0.1256 - accuracy: 0.9291 - val_loss: 0.4931 - val_accuracy: 0.8907\n",
            "Epoch 134/200\n",
            "365/365 [==============================] - 2s 6ms/step - loss: 0.1243 - accuracy: 0.9301 - val_loss: 0.4844 - val_accuracy: 0.8919\n",
            "Epoch 135/200\n",
            "365/365 [==============================] - 2s 6ms/step - loss: 0.1253 - accuracy: 0.9297 - val_loss: 0.5301 - val_accuracy: 0.8929\n",
            "Epoch 136/200\n",
            "365/365 [==============================] - 2s 6ms/step - loss: 0.1259 - accuracy: 0.9288 - val_loss: 0.4605 - val_accuracy: 0.8919\n",
            "Epoch 137/200\n",
            "365/365 [==============================] - 2s 6ms/step - loss: 0.1245 - accuracy: 0.9296 - val_loss: 0.4863 - val_accuracy: 0.8904\n",
            "Epoch 138/200\n",
            "365/365 [==============================] - 2s 6ms/step - loss: 0.1244 - accuracy: 0.9305 - val_loss: 0.5430 - val_accuracy: 0.8915\n",
            "Epoch 139/200\n",
            "365/365 [==============================] - 2s 6ms/step - loss: 0.1240 - accuracy: 0.9297 - val_loss: 0.5291 - val_accuracy: 0.8913\n",
            "Epoch 140/200\n",
            "365/365 [==============================] - 2s 6ms/step - loss: 0.1253 - accuracy: 0.9292 - val_loss: 0.5380 - val_accuracy: 0.8908\n",
            "Epoch 141/200\n",
            "365/365 [==============================] - 2s 6ms/step - loss: 0.1246 - accuracy: 0.9287 - val_loss: 0.5082 - val_accuracy: 0.8910\n",
            "Epoch 142/200\n",
            "365/365 [==============================] - 2s 6ms/step - loss: 0.1245 - accuracy: 0.9295 - val_loss: 0.4673 - val_accuracy: 0.8901\n",
            "Epoch 143/200\n",
            "365/365 [==============================] - 2s 6ms/step - loss: 0.1242 - accuracy: 0.9301 - val_loss: 0.5344 - val_accuracy: 0.8895\n",
            "Epoch 144/200\n",
            "365/365 [==============================] - 2s 6ms/step - loss: 0.1234 - accuracy: 0.9299 - val_loss: 0.4874 - val_accuracy: 0.8893\n",
            "Epoch 145/200\n",
            "365/365 [==============================] - 2s 6ms/step - loss: 0.1259 - accuracy: 0.9282 - val_loss: 0.4962 - val_accuracy: 0.8913\n",
            "Epoch 146/200\n",
            "365/365 [==============================] - 2s 6ms/step - loss: 0.1246 - accuracy: 0.9288 - val_loss: 0.4740 - val_accuracy: 0.8900\n",
            "Epoch 147/200\n",
            "365/365 [==============================] - 2s 6ms/step - loss: 0.1230 - accuracy: 0.9309 - val_loss: 0.4712 - val_accuracy: 0.8894\n",
            "Epoch 148/200\n",
            "365/365 [==============================] - 2s 6ms/step - loss: 0.1232 - accuracy: 0.9305 - val_loss: 0.5040 - val_accuracy: 0.8885\n",
            "Epoch 149/200\n",
            "365/365 [==============================] - 2s 6ms/step - loss: 0.1232 - accuracy: 0.9298 - val_loss: 0.4550 - val_accuracy: 0.8896\n",
            "Epoch 150/200\n",
            "365/365 [==============================] - 2s 6ms/step - loss: 0.1227 - accuracy: 0.9303 - val_loss: 0.4822 - val_accuracy: 0.8899\n",
            "Epoch 151/200\n",
            "365/365 [==============================] - 2s 6ms/step - loss: 0.1238 - accuracy: 0.9299 - val_loss: 0.5023 - val_accuracy: 0.8922\n",
            "Epoch 152/200\n",
            "365/365 [==============================] - 2s 6ms/step - loss: 0.1242 - accuracy: 0.9302 - val_loss: 0.5262 - val_accuracy: 0.8911\n",
            "Epoch 153/200\n",
            "365/365 [==============================] - 2s 6ms/step - loss: 0.1244 - accuracy: 0.9290 - val_loss: 0.4872 - val_accuracy: 0.8896\n",
            "Epoch 154/200\n",
            "365/365 [==============================] - 2s 6ms/step - loss: 0.1243 - accuracy: 0.9299 - val_loss: 0.4993 - val_accuracy: 0.8912\n",
            "Epoch 155/200\n",
            "365/365 [==============================] - 2s 6ms/step - loss: 0.1236 - accuracy: 0.9307 - val_loss: 0.4998 - val_accuracy: 0.8909\n",
            "Epoch 156/200\n",
            "365/365 [==============================] - 2s 6ms/step - loss: 0.1235 - accuracy: 0.9300 - val_loss: 0.4715 - val_accuracy: 0.8902\n",
            "Epoch 157/200\n",
            "365/365 [==============================] - 2s 6ms/step - loss: 0.1238 - accuracy: 0.9298 - val_loss: 0.4589 - val_accuracy: 0.8911\n",
            "Epoch 158/200\n",
            "365/365 [==============================] - 2s 6ms/step - loss: 0.1232 - accuracy: 0.9300 - val_loss: 0.5375 - val_accuracy: 0.8911\n",
            "Epoch 159/200\n",
            "365/365 [==============================] - 2s 6ms/step - loss: 0.1245 - accuracy: 0.9292 - val_loss: 0.5340 - val_accuracy: 0.8898\n",
            "Epoch 160/200\n",
            "365/365 [==============================] - 2s 6ms/step - loss: 0.1225 - accuracy: 0.9299 - val_loss: 0.5115 - val_accuracy: 0.8911\n",
            "Epoch 161/200\n",
            "365/365 [==============================] - 2s 6ms/step - loss: 0.1243 - accuracy: 0.9299 - val_loss: 0.5319 - val_accuracy: 0.8915\n",
            "Epoch 162/200\n",
            "365/365 [==============================] - 2s 6ms/step - loss: 0.1241 - accuracy: 0.9287 - val_loss: 0.5060 - val_accuracy: 0.8898\n",
            "Epoch 163/200\n",
            "365/365 [==============================] - 2s 6ms/step - loss: 0.1228 - accuracy: 0.9309 - val_loss: 0.5159 - val_accuracy: 0.8903\n",
            "Epoch 164/200\n",
            "365/365 [==============================] - 2s 6ms/step - loss: 0.1237 - accuracy: 0.9306 - val_loss: 0.5670 - val_accuracy: 0.8913\n",
            "Epoch 165/200\n",
            "365/365 [==============================] - 2s 6ms/step - loss: 0.1245 - accuracy: 0.9294 - val_loss: 0.4943 - val_accuracy: 0.8905\n",
            "Epoch 166/200\n",
            "365/365 [==============================] - 2s 6ms/step - loss: 0.1246 - accuracy: 0.9296 - val_loss: 0.4803 - val_accuracy: 0.8913\n",
            "Epoch 167/200\n",
            "365/365 [==============================] - 2s 6ms/step - loss: 0.1221 - accuracy: 0.9305 - val_loss: 0.4945 - val_accuracy: 0.8898\n",
            "Epoch 168/200\n",
            "365/365 [==============================] - 2s 6ms/step - loss: 0.1223 - accuracy: 0.9305 - val_loss: 0.5228 - val_accuracy: 0.8921\n",
            "Epoch 169/200\n",
            "365/365 [==============================] - 2s 6ms/step - loss: 0.1224 - accuracy: 0.9300 - val_loss: 0.5018 - val_accuracy: 0.8896\n",
            "Epoch 170/200\n",
            "365/365 [==============================] - 2s 6ms/step - loss: 0.1227 - accuracy: 0.9306 - val_loss: 0.5690 - val_accuracy: 0.8911\n",
            "Epoch 171/200\n",
            "365/365 [==============================] - 2s 6ms/step - loss: 0.1207 - accuracy: 0.9316 - val_loss: 0.5233 - val_accuracy: 0.8908\n",
            "Epoch 172/200\n",
            "365/365 [==============================] - 2s 6ms/step - loss: 0.1233 - accuracy: 0.9302 - val_loss: 0.5319 - val_accuracy: 0.8900\n",
            "Epoch 173/200\n",
            "365/365 [==============================] - 2s 6ms/step - loss: 0.1224 - accuracy: 0.9310 - val_loss: 0.5118 - val_accuracy: 0.8902\n",
            "Epoch 174/200\n",
            "365/365 [==============================] - 2s 6ms/step - loss: 0.1235 - accuracy: 0.9301 - val_loss: 0.4894 - val_accuracy: 0.8913\n",
            "Epoch 175/200\n",
            "365/365 [==============================] - 2s 6ms/step - loss: 0.1217 - accuracy: 0.9307 - val_loss: 0.5271 - val_accuracy: 0.8922\n",
            "Epoch 176/200\n",
            "365/365 [==============================] - 2s 6ms/step - loss: 0.1216 - accuracy: 0.9319 - val_loss: 0.4827 - val_accuracy: 0.8920\n",
            "Epoch 177/200\n",
            "365/365 [==============================] - 2s 6ms/step - loss: 0.1216 - accuracy: 0.9312 - val_loss: 0.5344 - val_accuracy: 0.8903\n",
            "Epoch 178/200\n",
            "365/365 [==============================] - 2s 6ms/step - loss: 0.1229 - accuracy: 0.9299 - val_loss: 0.5368 - val_accuracy: 0.8902\n",
            "Epoch 179/200\n",
            "365/365 [==============================] - 2s 6ms/step - loss: 0.1214 - accuracy: 0.9314 - val_loss: 0.5418 - val_accuracy: 0.8907\n",
            "Epoch 180/200\n",
            "365/365 [==============================] - 2s 6ms/step - loss: 0.1211 - accuracy: 0.9309 - val_loss: 0.5095 - val_accuracy: 0.8904\n",
            "Epoch 181/200\n",
            "365/365 [==============================] - 2s 6ms/step - loss: 0.1231 - accuracy: 0.9309 - val_loss: 0.5137 - val_accuracy: 0.8915\n",
            "Epoch 182/200\n",
            "365/365 [==============================] - 2s 6ms/step - loss: 0.1230 - accuracy: 0.9305 - val_loss: 0.5631 - val_accuracy: 0.8916\n",
            "Epoch 183/200\n",
            "365/365 [==============================] - 2s 6ms/step - loss: 0.1228 - accuracy: 0.9304 - val_loss: 0.5074 - val_accuracy: 0.8905\n",
            "Epoch 184/200\n",
            "365/365 [==============================] - 2s 6ms/step - loss: 0.1215 - accuracy: 0.9313 - val_loss: 0.4897 - val_accuracy: 0.8894\n",
            "Epoch 185/200\n",
            "365/365 [==============================] - 2s 6ms/step - loss: 0.1223 - accuracy: 0.9308 - val_loss: 0.5005 - val_accuracy: 0.8894\n",
            "Epoch 186/200\n",
            "365/365 [==============================] - 2s 6ms/step - loss: 0.1231 - accuracy: 0.9305 - val_loss: 0.5452 - val_accuracy: 0.8911\n",
            "Epoch 187/200\n",
            "365/365 [==============================] - 2s 6ms/step - loss: 0.1215 - accuracy: 0.9311 - val_loss: 0.5510 - val_accuracy: 0.8913\n",
            "Epoch 188/200\n",
            "365/365 [==============================] - 2s 6ms/step - loss: 0.1230 - accuracy: 0.9307 - val_loss: 0.5931 - val_accuracy: 0.8901\n",
            "Epoch 189/200\n",
            "365/365 [==============================] - 2s 6ms/step - loss: 0.1231 - accuracy: 0.9289 - val_loss: 0.4897 - val_accuracy: 0.8899\n",
            "Epoch 190/200\n",
            "365/365 [==============================] - 2s 6ms/step - loss: 0.1215 - accuracy: 0.9314 - val_loss: 0.4806 - val_accuracy: 0.8908\n",
            "Epoch 191/200\n",
            "365/365 [==============================] - 2s 6ms/step - loss: 0.1221 - accuracy: 0.9303 - val_loss: 0.5623 - val_accuracy: 0.8908\n",
            "Epoch 192/200\n",
            "365/365 [==============================] - 2s 6ms/step - loss: 0.1208 - accuracy: 0.9313 - val_loss: 0.5869 - val_accuracy: 0.8909\n",
            "Epoch 193/200\n",
            "365/365 [==============================] - 2s 6ms/step - loss: 0.1221 - accuracy: 0.9310 - val_loss: 0.5212 - val_accuracy: 0.8900\n",
            "Epoch 194/200\n",
            "365/365 [==============================] - 2s 6ms/step - loss: 0.1209 - accuracy: 0.9316 - val_loss: 0.5258 - val_accuracy: 0.8913\n",
            "Epoch 195/200\n",
            "365/365 [==============================] - 2s 6ms/step - loss: 0.1215 - accuracy: 0.9311 - val_loss: 0.5484 - val_accuracy: 0.8896\n",
            "Epoch 196/200\n",
            "365/365 [==============================] - 2s 6ms/step - loss: 0.1210 - accuracy: 0.9310 - val_loss: 0.5980 - val_accuracy: 0.8917\n",
            "Epoch 197/200\n",
            "365/365 [==============================] - 2s 6ms/step - loss: 0.1200 - accuracy: 0.9319 - val_loss: 0.5360 - val_accuracy: 0.8900\n",
            "Epoch 198/200\n",
            "365/365 [==============================] - 2s 6ms/step - loss: 0.1213 - accuracy: 0.9307 - val_loss: 0.5570 - val_accuracy: 0.8907\n",
            "Epoch 199/200\n",
            "365/365 [==============================] - 2s 6ms/step - loss: 0.1202 - accuracy: 0.9312 - val_loss: 0.5340 - val_accuracy: 0.8917\n",
            "Epoch 200/200\n",
            "365/365 [==============================] - 2s 6ms/step - loss: 0.1227 - accuracy: 0.9298 - val_loss: 0.4631 - val_accuracy: 0.8900\n",
            "dict_keys(['loss', 'accuracy', 'val_loss', 'val_accuracy'])\n"
          ],
          "name": "stdout"
        },
        {
          "output_type": "display_data",
          "data": {
            "image/png": "[encoded data removed]",
            "text/plain": [
              "<Figure size 432x288 with 1 Axes>"
            ]
          },
          "metadata": {
            "tags": []
          }
        },
        {
          "output_type": "display_data",
          "data": {
            "image/png": "[encoded data removed]",
            "text/plain": [
              "<Figure size 432x288 with 1 Axes>"
            ]
          },
          "metadata": {
            "tags": []
          }
        },
        {
          "output_type": "stream",
          "text": [
            "The confusion matrix is: [[30812  2363]\n",
            " [ 1848  2777]]\n",
            "The accuracy score with test data is= 0.8885978835978836\n"
          ],
          "name": "stdout"
        }
      ]
    },
    {
      "cell_type": "code",
      "metadata": {
        "id": "DP2SUu-T5__s"
      },
      "source": [
        "def build_model(hp):\n",
        "    model = keras.Sequential()\n",
        "    for i in range(hp.Int('num_layers', 2, 20)):\n",
        "        model.add(layers.Dense(units=hp.Int('units_' + str(i),\n",
        "                                            min_value=32,\n",
        "                                            max_value=512,\n",
        "                                            step=32),\n",
        "                               activation='relu'))\n",
        "    model.add(layers.Dense(2, activation='sigmoid'))\n",
        "    model.compile(\n",
        "        optimizer=keras.optimizers.Adam(\n",
        "            hp.Choice('learning_rate', [1e-2, 1e-3, 1e-4])),\n",
        "            loss=tf.keras.losses.BinaryCrossentropy(from_logits=True),\n",
        "            metrics=['accuracy'])\n",
        "    return model"
      ],
      "execution_count": null,
      "outputs": []
    },
    {
      "cell_type": "code",
      "metadata": {
        "id": "UviJIiKL__UR"
      },
      "source": [
        "tuner = RandomSearch(\n",
        "    build_model,\n",
        "    objective='val_accuracy',\n",
        "    max_trials=5,\n",
        "    executions_per_trial=3,\n",
        "    directory='project')"
      ],
      "execution_count": null,
      "outputs": []
    },
    {
      "cell_type": "code",
      "metadata": {
        "colab": {
          "base_uri": "https://localhost:8080/"
        },
        "id": "4l3KF8ydAgo9",
        "outputId": "d880c253-14f5-4401-c260-2ac552475d1a"
      },
      "source": [
        "tuner.search_space_summary()"
      ],
      "execution_count": null,
      "outputs": [
        {
          "output_type": "stream",
          "text": [
            "Search space summary\n",
            "Default search space size: 4\n",
            "num_layers (Int)\n",
            "{'default': None, 'conditions': [], 'min_value': 2, 'max_value': 20, 'step': 1, 'sampling': None}\n",
            "units_0 (Int)\n",
            "{'default': None, 'conditions': [], 'min_value': 32, 'max_value': 512, 'step': 32, 'sampling': None}\n",
            "units_1 (Int)\n",
            "{'default': None, 'conditions': [], 'min_value': 32, 'max_value': 512, 'step': 32, 'sampling': None}\n",
            "learning_rate (Choice)\n",
            "{'default': 0.01, 'conditions': [], 'values': [0.01, 0.001, 0.0001], 'ordered': True}\n"
          ],
          "name": "stdout"
        }
      ]
    },
    {
      "cell_type": "code",
      "metadata": {
        "id": "9ZKf6EkSaC9G"
      },
      "source": [
        "from sklearn.model_selection import train_test_split\n",
        "X_train, X_test, y_train, y_test = train_test_split(X, dummy_y, test_size=0.2, random_state=0)"
      ],
      "execution_count": null,
      "outputs": []
    },
    {
      "cell_type": "code",
      "metadata": {
        "colab": {
          "base_uri": "https://localhost:8080/"
        },
        "id": "5uoNBjWJaGMG",
        "outputId": "6d20c8ca-b7dd-4dcb-f16a-edfc3189606c"
      },
      "source": [
        "tuner.search(X_train, y_train,\n",
        "             epochs=100,\n",
        "             validation_data=(X_test, y_test))"
      ],
      "execution_count": null,
      "outputs": [
        {
          "output_type": "stream",
          "text": [
            "\n",
            "Search: Running Trial #1\n",
            "\n",
            "Hyperparameter    |Value             |Best Value So Far \n",
            "num_layers        |10                |?                 \n",
            "units_0           |288               |?                 \n",
            "units_1           |96                |?                 \n",
            "learning_rate     |0.01              |?                 \n",
            "\n",
            "Epoch 1/100\n",
            "6300/6300 [==============================] - 27s 4ms/step - loss: 46.8305 - accuracy: 0.8730 - val_loss: 0.3718 - val_accuracy: 0.8782\n",
            "Epoch 2/100\n",
            "6300/6300 [==============================] - 25s 4ms/step - loss: 0.3775 - accuracy: 0.8748 - val_loss: 0.3709 - val_accuracy: 0.8782\n",
            "Epoch 3/100\n",
            "6300/6300 [==============================] - 25s 4ms/step - loss: 0.3743 - accuracy: 0.8765 - val_loss: 0.3707 - val_accuracy: 0.8782\n",
            "Epoch 4/100\n",
            "6300/6300 [==============================] - 26s 4ms/step - loss: 0.3754 - accuracy: 0.8760 - val_loss: 0.3712 - val_accuracy: 0.8782\n",
            "Epoch 5/100\n",
            "6300/6300 [==============================] - 25s 4ms/step - loss: 0.3735 - accuracy: 0.8768 - val_loss: 0.3711 - val_accuracy: 0.8782\n",
            "Epoch 6/100\n",
            "6300/6300 [==============================] - 25s 4ms/step - loss: 0.3731 - accuracy: 0.8769 - val_loss: 0.3706 - val_accuracy: 0.8782\n",
            "Epoch 7/100\n",
            "6300/6300 [==============================] - 25s 4ms/step - loss: 0.3722 - accuracy: 0.8775 - val_loss: 0.3709 - val_accuracy: 0.8782\n",
            "Epoch 8/100\n",
            "6300/6300 [==============================] - 25s 4ms/step - loss: 0.3739 - accuracy: 0.8766 - val_loss: 0.3710 - val_accuracy: 0.8782\n",
            "Epoch 9/100\n",
            "6300/6300 [==============================] - 25s 4ms/step - loss: 0.3745 - accuracy: 0.8763 - val_loss: 0.3712 - val_accuracy: 0.8782\n",
            "Epoch 10/100\n",
            "6300/6300 [==============================] - 25s 4ms/step - loss: 0.3706 - accuracy: 0.8783 - val_loss: 0.3707 - val_accuracy: 0.8782\n",
            "Epoch 11/100\n",
            "6300/6300 [==============================] - 25s 4ms/step - loss: 0.3748 - accuracy: 0.8761 - val_loss: 0.3708 - val_accuracy: 0.8782\n",
            "Epoch 12/100\n",
            "6300/6300 [==============================] - 25s 4ms/step - loss: 0.3716 - accuracy: 0.8777 - val_loss: 0.3706 - val_accuracy: 0.8782\n",
            "Epoch 13/100\n",
            "6300/6300 [==============================] - 25s 4ms/step - loss: 0.3742 - accuracy: 0.8764 - val_loss: 0.3706 - val_accuracy: 0.8782\n",
            "Epoch 14/100\n",
            "6300/6300 [==============================] - 25s 4ms/step - loss: 0.3760 - accuracy: 0.8755 - val_loss: 0.3706 - val_accuracy: 0.8782\n",
            "Epoch 15/100\n",
            "6300/6300 [==============================] - 25s 4ms/step - loss: 0.3729 - accuracy: 0.8770 - val_loss: 0.3706 - val_accuracy: 0.8782\n",
            "Epoch 16/100\n",
            "6300/6300 [==============================] - 25s 4ms/step - loss: 0.3749 - accuracy: 0.8761 - val_loss: 0.3707 - val_accuracy: 0.8782\n",
            "Epoch 17/100\n",
            "6300/6300 [==============================] - 25s 4ms/step - loss: 0.3731 - accuracy: 0.8770 - val_loss: 0.3706 - val_accuracy: 0.8782\n",
            "Epoch 18/100\n",
            "6300/6300 [==============================] - 25s 4ms/step - loss: 0.3732 - accuracy: 0.8769 - val_loss: 0.3706 - val_accuracy: 0.8782\n",
            "Epoch 19/100\n",
            "6300/6300 [==============================] - 25s 4ms/step - loss: 0.3742 - accuracy: 0.8764 - val_loss: 0.3706 - val_accuracy: 0.8782\n",
            "Epoch 20/100\n",
            "6300/6300 [==============================] - 25s 4ms/step - loss: 0.3735 - accuracy: 0.8768 - val_loss: 0.3706 - val_accuracy: 0.8782\n",
            "Epoch 21/100\n",
            "6300/6300 [==============================] - 25s 4ms/step - loss: 0.3739 - accuracy: 0.8766 - val_loss: 0.3706 - val_accuracy: 0.8782\n",
            "Epoch 22/100\n",
            "6300/6300 [==============================] - 25s 4ms/step - loss: 0.3730 - accuracy: 0.8770 - val_loss: 0.3707 - val_accuracy: 0.8782\n",
            "Epoch 23/100\n",
            "6300/6300 [==============================] - 25s 4ms/step - loss: 0.3753 - accuracy: 0.8758 - val_loss: 0.3708 - val_accuracy: 0.8782\n",
            "Epoch 24/100\n",
            "6300/6300 [==============================] - 25s 4ms/step - loss: 0.3727 - accuracy: 0.8772 - val_loss: 0.3706 - val_accuracy: 0.8782\n",
            "Epoch 25/100\n",
            "6300/6300 [==============================] - 25s 4ms/step - loss: 0.3739 - accuracy: 0.8765 - val_loss: 0.3707 - val_accuracy: 0.8782\n",
            "Epoch 26/100\n",
            "6300/6300 [==============================] - 25s 4ms/step - loss: 0.3744 - accuracy: 0.8763 - val_loss: 0.3709 - val_accuracy: 0.8782\n",
            "Epoch 27/100\n",
            "6300/6300 [==============================] - 25s 4ms/step - loss: 0.3719 - accuracy: 0.8776 - val_loss: 0.3708 - val_accuracy: 0.8782\n",
            "Epoch 28/100\n",
            "6300/6300 [==============================] - 25s 4ms/step - loss: 0.3729 - accuracy: 0.8771 - val_loss: 0.3719 - val_accuracy: 0.8782\n",
            "Epoch 29/100\n",
            "6300/6300 [==============================] - 25s 4ms/step - loss: 0.3739 - accuracy: 0.8766 - val_loss: 0.3706 - val_accuracy: 0.8782\n",
            "Epoch 30/100\n",
            "6300/6300 [==============================] - 25s 4ms/step - loss: 0.3732 - accuracy: 0.8769 - val_loss: 0.3712 - val_accuracy: 0.8782\n",
            "Epoch 31/100\n",
            "6300/6300 [==============================] - 25s 4ms/step - loss: 0.3735 - accuracy: 0.8767 - val_loss: 0.3707 - val_accuracy: 0.8782\n",
            "Epoch 32/100\n",
            "6300/6300 [==============================] - 25s 4ms/step - loss: 0.3756 - accuracy: 0.8757 - val_loss: 0.3707 - val_accuracy: 0.8782\n",
            "Epoch 33/100\n",
            "6300/6300 [==============================] - 25s 4ms/step - loss: 0.3746 - accuracy: 0.8762 - val_loss: 0.3707 - val_accuracy: 0.8782\n",
            "Epoch 34/100\n",
            "6300/6300 [==============================] - 25s 4ms/step - loss: 0.3720 - accuracy: 0.8775 - val_loss: 0.3706 - val_accuracy: 0.8782\n",
            "Epoch 35/100\n",
            "6300/6300 [==============================] - 25s 4ms/step - loss: 0.3732 - accuracy: 0.8769 - val_loss: 0.3707 - val_accuracy: 0.8782\n",
            "Epoch 36/100\n",
            "6300/6300 [==============================] - 25s 4ms/step - loss: 0.3717 - accuracy: 0.8776 - val_loss: 0.3712 - val_accuracy: 0.8782\n",
            "Epoch 37/100\n",
            "6300/6300 [==============================] - 25s 4ms/step - loss: 0.3733 - accuracy: 0.8769 - val_loss: 0.3708 - val_accuracy: 0.8782\n",
            "Epoch 38/100\n",
            "6300/6300 [==============================] - 25s 4ms/step - loss: 0.3758 - accuracy: 0.8756 - val_loss: 0.3709 - val_accuracy: 0.8782\n",
            "Epoch 39/100\n",
            "6300/6300 [==============================] - 25s 4ms/step - loss: 0.3745 - accuracy: 0.8762 - val_loss: 0.3706 - val_accuracy: 0.8782\n",
            "Epoch 40/100\n",
            "6300/6300 [==============================] - 25s 4ms/step - loss: 0.3756 - accuracy: 0.8757 - val_loss: 0.3709 - val_accuracy: 0.8782\n",
            "Epoch 41/100\n",
            "6300/6300 [==============================] - 25s 4ms/step - loss: 0.3748 - accuracy: 0.8761 - val_loss: 0.3706 - val_accuracy: 0.8782\n",
            "Epoch 42/100\n",
            "6300/6300 [==============================] - 25s 4ms/step - loss: 0.3715 - accuracy: 0.8777 - val_loss: 0.3707 - val_accuracy: 0.8782\n",
            "Epoch 43/100\n",
            "6300/6300 [==============================] - 25s 4ms/step - loss: 0.3756 - accuracy: 0.8757 - val_loss: 0.3706 - val_accuracy: 0.8782\n",
            "Epoch 44/100\n",
            "6300/6300 [==============================] - 25s 4ms/step - loss: 0.3738 - accuracy: 0.8766 - val_loss: 0.3706 - val_accuracy: 0.8782\n",
            "Epoch 45/100\n",
            "6300/6300 [==============================] - 25s 4ms/step - loss: 0.3724 - accuracy: 0.8773 - val_loss: 0.3710 - val_accuracy: 0.8782\n",
            "Epoch 46/100\n",
            "6300/6300 [==============================] - 25s 4ms/step - loss: 0.3736 - accuracy: 0.8767 - val_loss: 0.3706 - val_accuracy: 0.8782\n",
            "Epoch 47/100\n",
            "6300/6300 [==============================] - 25s 4ms/step - loss: 0.3743 - accuracy: 0.8763 - val_loss: 0.3708 - val_accuracy: 0.8782\n",
            "Epoch 48/100\n",
            "6300/6300 [==============================] - 25s 4ms/step - loss: 0.3753 - accuracy: 0.8758 - val_loss: 0.3706 - val_accuracy: 0.8782\n",
            "Epoch 49/100\n",
            "6300/6300 [==============================] - 25s 4ms/step - loss: 0.3741 - accuracy: 0.8764 - val_loss: 0.3706 - val_accuracy: 0.8782\n",
            "Epoch 50/100\n",
            "6300/6300 [==============================] - 25s 4ms/step - loss: 0.3751 - accuracy: 0.8760 - val_loss: 0.3706 - val_accuracy: 0.8782\n",
            "Epoch 51/100\n",
            "6300/6300 [==============================] - 25s 4ms/step - loss: 0.3753 - accuracy: 0.8759 - val_loss: 0.3708 - val_accuracy: 0.8782\n",
            "Epoch 52/100\n",
            "6300/6300 [==============================] - 25s 4ms/step - loss: 0.3722 - accuracy: 0.8775 - val_loss: 0.3706 - val_accuracy: 0.8782\n",
            "Epoch 53/100\n",
            "6300/6300 [==============================] - 25s 4ms/step - loss: 0.3731 - accuracy: 0.8770 - val_loss: 0.3706 - val_accuracy: 0.8782\n",
            "Epoch 54/100\n",
            "6300/6300 [==============================] - 25s 4ms/step - loss: 0.3743 - accuracy: 0.8763 - val_loss: 0.3707 - val_accuracy: 0.8782\n",
            "Epoch 55/100\n",
            "6300/6300 [==============================] - 25s 4ms/step - loss: 0.3726 - accuracy: 0.8772 - val_loss: 0.3706 - val_accuracy: 0.8782\n",
            "Epoch 56/100\n",
            "6300/6300 [==============================] - 25s 4ms/step - loss: 0.3728 - accuracy: 0.8771 - val_loss: 0.3707 - val_accuracy: 0.8782\n",
            "Epoch 57/100\n",
            "6300/6300 [==============================] - 25s 4ms/step - loss: 0.3732 - accuracy: 0.8769 - val_loss: 0.3706 - val_accuracy: 0.8782\n",
            "Epoch 58/100\n",
            "6300/6300 [==============================] - 25s 4ms/step - loss: 0.3730 - accuracy: 0.8770 - val_loss: 0.3707 - val_accuracy: 0.8782\n",
            "Epoch 59/100\n",
            "6300/6300 [==============================] - 25s 4ms/step - loss: 0.3747 - accuracy: 0.8761 - val_loss: 0.3706 - val_accuracy: 0.8782\n",
            "Epoch 60/100\n",
            "6300/6300 [==============================] - 25s 4ms/step - loss: 0.3728 - accuracy: 0.8771 - val_loss: 0.3706 - val_accuracy: 0.8782\n",
            "Epoch 61/100\n",
            "6300/6300 [==============================] - 25s 4ms/step - loss: 0.3752 - accuracy: 0.8759 - val_loss: 0.3706 - val_accuracy: 0.8782\n",
            "Epoch 62/100\n",
            "6300/6300 [==============================] - 25s 4ms/step - loss: 0.3721 - accuracy: 0.8775 - val_loss: 0.3706 - val_accuracy: 0.8782\n",
            "Epoch 63/100\n",
            "6300/6300 [==============================] - 25s 4ms/step - loss: 0.3747 - accuracy: 0.8761 - val_loss: 0.3706 - val_accuracy: 0.8782\n",
            "Epoch 64/100\n",
            "6300/6300 [==============================] - 25s 4ms/step - loss: 0.3746 - accuracy: 0.8762 - val_loss: 0.3706 - val_accuracy: 0.8782\n",
            "Epoch 65/100\n",
            "6300/6300 [==============================] - 25s 4ms/step - loss: 0.3765 - accuracy: 0.8752 - val_loss: 0.3708 - val_accuracy: 0.8782\n",
            "Epoch 66/100\n",
            "6300/6300 [==============================] - 25s 4ms/step - loss: 0.3731 - accuracy: 0.8770 - val_loss: 0.3706 - val_accuracy: 0.8782\n",
            "Epoch 67/100\n",
            "6300/6300 [==============================] - 25s 4ms/step - loss: 0.3752 - accuracy: 0.8759 - val_loss: 0.3708 - val_accuracy: 0.8782\n",
            "Epoch 68/100\n",
            "6300/6300 [==============================] - 25s 4ms/step - loss: 0.3724 - accuracy: 0.8773 - val_loss: 0.3706 - val_accuracy: 0.8782\n",
            "Epoch 69/100\n",
            "6300/6300 [==============================] - 25s 4ms/step - loss: 0.3732 - accuracy: 0.8769 - val_loss: 0.3706 - val_accuracy: 0.8782\n",
            "Epoch 70/100\n",
            "6300/6300 [==============================] - 25s 4ms/step - loss: 0.3736 - accuracy: 0.8767 - val_loss: 0.3707 - val_accuracy: 0.8782\n",
            "Epoch 71/100\n",
            "6300/6300 [==============================] - 25s 4ms/step - loss: 0.3729 - accuracy: 0.8771 - val_loss: 0.3706 - val_accuracy: 0.8782\n",
            "Epoch 72/100\n",
            "6300/6300 [==============================] - 25s 4ms/step - loss: 0.3699 - accuracy: 0.8786 - val_loss: 0.3706 - val_accuracy: 0.8782\n",
            "Epoch 73/100\n",
            "6300/6300 [==============================] - 26s 4ms/step - loss: 0.3741 - accuracy: 0.8765 - val_loss: 0.3706 - val_accuracy: 0.8782\n",
            "Epoch 74/100\n",
            "6300/6300 [==============================] - 25s 4ms/step - loss: 0.3722 - accuracy: 0.8774 - val_loss: 0.3706 - val_accuracy: 0.8782\n",
            "Epoch 75/100\n",
            "6300/6300 [==============================] - 26s 4ms/step - loss: 0.3729 - accuracy: 0.8771 - val_loss: 0.3707 - val_accuracy: 0.8782\n",
            "Epoch 76/100\n",
            "6300/6300 [==============================] - 26s 4ms/step - loss: 0.3760 - accuracy: 0.8755 - val_loss: 0.3707 - val_accuracy: 0.8782\n",
            "Epoch 77/100\n",
            "6300/6300 [==============================] - 26s 4ms/step - loss: 0.3716 - accuracy: 0.8777 - val_loss: 0.3708 - val_accuracy: 0.8782\n",
            "Epoch 78/100\n",
            "6300/6300 [==============================] - 26s 4ms/step - loss: 0.3725 - accuracy: 0.8773 - val_loss: 0.3706 - val_accuracy: 0.8782\n",
            "Epoch 79/100\n",
            "6300/6300 [==============================] - 25s 4ms/step - loss: 0.3721 - accuracy: 0.8775 - val_loss: 0.3706 - val_accuracy: 0.8782\n",
            "Epoch 80/100\n",
            "6300/6300 [==============================] - 26s 4ms/step - loss: 0.3746 - accuracy: 0.8762 - val_loss: 0.3707 - val_accuracy: 0.8782\n",
            "Epoch 81/100\n",
            "6300/6300 [==============================] - 26s 4ms/step - loss: 0.3749 - accuracy: 0.8760 - val_loss: 0.3707 - val_accuracy: 0.8782\n",
            "Epoch 82/100\n",
            "6300/6300 [==============================] - 26s 4ms/step - loss: 0.3756 - accuracy: 0.8756 - val_loss: 0.3706 - val_accuracy: 0.8782\n",
            "Epoch 83/100\n",
            "6300/6300 [==============================] - 25s 4ms/step - loss: 0.3758 - accuracy: 0.8755 - val_loss: 0.3706 - val_accuracy: 0.8782\n",
            "Epoch 84/100\n",
            "6300/6300 [==============================] - 25s 4ms/step - loss: 0.3752 - accuracy: 0.8759 - val_loss: 0.3706 - val_accuracy: 0.8782\n",
            "Epoch 85/100\n",
            "6300/6300 [==============================] - 26s 4ms/step - loss: 0.3725 - accuracy: 0.8772 - val_loss: 0.3706 - val_accuracy: 0.8782\n",
            "Epoch 86/100\n",
            "6300/6300 [==============================] - 25s 4ms/step - loss: 0.3747 - accuracy: 0.8761 - val_loss: 0.3706 - val_accuracy: 0.8782\n",
            "Epoch 87/100\n",
            "6300/6300 [==============================] - 25s 4ms/step - loss: 0.3734 - accuracy: 0.8768 - val_loss: 0.3706 - val_accuracy: 0.8782\n",
            "Epoch 88/100\n",
            "6300/6300 [==============================] - 26s 4ms/step - loss: 0.3704 - accuracy: 0.8783 - val_loss: 0.3709 - val_accuracy: 0.8782\n",
            "Epoch 89/100\n",
            "6300/6300 [==============================] - 26s 4ms/step - loss: 0.3725 - accuracy: 0.8773 - val_loss: 0.3706 - val_accuracy: 0.8782\n",
            "Epoch 90/100\n",
            "6300/6300 [==============================] - 26s 4ms/step - loss: 0.3745 - accuracy: 0.8762 - val_loss: 0.3709 - val_accuracy: 0.8782\n",
            "Epoch 91/100\n",
            "6300/6300 [==============================] - 26s 4ms/step - loss: 0.3714 - accuracy: 0.8778 - val_loss: 0.3707 - val_accuracy: 0.8782\n",
            "Epoch 92/100\n",
            "6300/6300 [==============================] - 25s 4ms/step - loss: 0.3736 - accuracy: 0.8767 - val_loss: 0.3707 - val_accuracy: 0.8782\n",
            "Epoch 93/100\n",
            "6300/6300 [==============================] - 25s 4ms/step - loss: 0.3759 - accuracy: 0.8755 - val_loss: 0.3706 - val_accuracy: 0.8782\n",
            "Epoch 94/100\n",
            "6300/6300 [==============================] - 25s 4ms/step - loss: 0.3731 - accuracy: 0.8769 - val_loss: 0.3707 - val_accuracy: 0.8782\n",
            "Epoch 95/100\n",
            "6300/6300 [==============================] - 25s 4ms/step - loss: 0.3733 - accuracy: 0.8769 - val_loss: 0.3708 - val_accuracy: 0.8782\n",
            "Epoch 96/100\n",
            "6300/6300 [==============================] - 25s 4ms/step - loss: 0.3706 - accuracy: 0.8782 - val_loss: 0.3706 - val_accuracy: 0.8782\n",
            "Epoch 97/100\n",
            "6300/6300 [==============================] - 26s 4ms/step - loss: 0.3740 - accuracy: 0.8765 - val_loss: 0.3706 - val_accuracy: 0.8782\n",
            "Epoch 98/100\n",
            "6300/6300 [==============================] - 26s 4ms/step - loss: 0.3744 - accuracy: 0.8763 - val_loss: 0.3712 - val_accuracy: 0.8782\n",
            "Epoch 99/100\n",
            "6300/6300 [==============================] - 26s 4ms/step - loss: 0.3719 - accuracy: 0.8776 - val_loss: 0.3706 - val_accuracy: 0.8782\n",
            "Epoch 100/100\n",
            "6300/6300 [==============================] - 25s 4ms/step - loss: 0.3743 - accuracy: 0.8763 - val_loss: 0.3706 - val_accuracy: 0.8782\n",
            "Epoch 1/100\n",
            "6300/6300 [==============================] - 27s 4ms/step - loss: 69.0809 - accuracy: 0.8741 - val_loss: 0.3711 - val_accuracy: 0.8782\n",
            "Epoch 2/100\n",
            "6300/6300 [==============================] - 26s 4ms/step - loss: 0.3787 - accuracy: 0.8743 - val_loss: 0.3715 - val_accuracy: 0.8782\n",
            "Epoch 3/100\n",
            "6300/6300 [==============================] - 26s 4ms/step - loss: 0.3745 - accuracy: 0.8765 - val_loss: 0.3707 - val_accuracy: 0.8782\n",
            "Epoch 4/100\n",
            "6300/6300 [==============================] - 26s 4ms/step - loss: 0.3744 - accuracy: 0.8766 - val_loss: 0.3706 - val_accuracy: 0.8782\n",
            "Epoch 5/100\n",
            "6300/6300 [==============================] - 25s 4ms/step - loss: 0.3733 - accuracy: 0.8769 - val_loss: 0.3708 - val_accuracy: 0.8782\n",
            "Epoch 6/100\n",
            "6300/6300 [==============================] - 25s 4ms/step - loss: 0.3743 - accuracy: 0.8764 - val_loss: 0.3706 - val_accuracy: 0.8782\n",
            "Epoch 7/100\n",
            "6300/6300 [==============================] - 25s 4ms/step - loss: 0.3737 - accuracy: 0.8766 - val_loss: 0.3706 - val_accuracy: 0.8782\n",
            "Epoch 8/100\n",
            "6300/6300 [==============================] - 26s 4ms/step - loss: 0.3765 - accuracy: 0.8752 - val_loss: 0.3707 - val_accuracy: 0.8782\n",
            "Epoch 9/100\n",
            "6300/6300 [==============================] - 26s 4ms/step - loss: 0.3747 - accuracy: 0.8761 - val_loss: 0.3707 - val_accuracy: 0.8782\n",
            "Epoch 10/100\n",
            "6300/6300 [==============================] - 25s 4ms/step - loss: 0.3751 - accuracy: 0.8759 - val_loss: 0.3706 - val_accuracy: 0.8782\n",
            "Epoch 11/100\n",
            "6300/6300 [==============================] - 25s 4ms/step - loss: 0.3726 - accuracy: 0.8772 - val_loss: 0.3707 - val_accuracy: 0.8782\n",
            "Epoch 12/100\n",
            "6300/6300 [==============================] - 25s 4ms/step - loss: 0.3737 - accuracy: 0.8766 - val_loss: 0.3708 - val_accuracy: 0.8782\n",
            "Epoch 13/100\n",
            "6300/6300 [==============================] - 25s 4ms/step - loss: 0.3740 - accuracy: 0.8765 - val_loss: 0.3706 - val_accuracy: 0.8782\n",
            "Epoch 14/100\n",
            "6300/6300 [==============================] - 25s 4ms/step - loss: 0.3730 - accuracy: 0.8770 - val_loss: 0.3710 - val_accuracy: 0.8782\n",
            "Epoch 15/100\n",
            "6300/6300 [==============================] - 25s 4ms/step - loss: 0.3740 - accuracy: 0.8765 - val_loss: 0.3707 - val_accuracy: 0.8782\n",
            "Epoch 16/100\n",
            "6300/6300 [==============================] - 25s 4ms/step - loss: 0.3715 - accuracy: 0.8778 - val_loss: 0.3707 - val_accuracy: 0.8782\n",
            "Epoch 17/100\n",
            "6300/6300 [==============================] - 25s 4ms/step - loss: 0.3715 - accuracy: 0.8778 - val_loss: 0.3708 - val_accuracy: 0.8782\n",
            "Epoch 18/100\n",
            "6300/6300 [==============================] - 25s 4ms/step - loss: 0.3771 - accuracy: 0.8749 - val_loss: 0.3706 - val_accuracy: 0.8782\n",
            "Epoch 19/100\n",
            "6300/6300 [==============================] - 25s 4ms/step - loss: 0.3790 - accuracy: 0.8739 - val_loss: 0.3707 - val_accuracy: 0.8782\n",
            "Epoch 20/100\n",
            "6300/6300 [==============================] - 26s 4ms/step - loss: 0.3747 - accuracy: 0.8761 - val_loss: 0.3706 - val_accuracy: 0.8782\n",
            "Epoch 21/100\n",
            "6300/6300 [==============================] - 26s 4ms/step - loss: 0.3737 - accuracy: 0.8767 - val_loss: 0.3715 - val_accuracy: 0.8782\n",
            "Epoch 22/100\n",
            "6300/6300 [==============================] - 26s 4ms/step - loss: 0.3728 - accuracy: 0.8771 - val_loss: 0.3706 - val_accuracy: 0.8782\n",
            "Epoch 23/100\n",
            "6300/6300 [==============================] - 25s 4ms/step - loss: 0.3735 - accuracy: 0.8767 - val_loss: 0.3713 - val_accuracy: 0.8782\n",
            "Epoch 24/100\n",
            "6300/6300 [==============================] - 26s 4ms/step - loss: 0.3735 - accuracy: 0.8768 - val_loss: 0.3706 - val_accuracy: 0.8782\n",
            "Epoch 25/100\n",
            "6300/6300 [==============================] - 26s 4ms/step - loss: 0.3749 - accuracy: 0.8760 - val_loss: 0.3706 - val_accuracy: 0.8782\n",
            "Epoch 26/100\n",
            "6300/6300 [==============================] - 26s 4ms/step - loss: 0.3753 - accuracy: 0.8759 - val_loss: 0.3707 - val_accuracy: 0.8782\n",
            "Epoch 27/100\n",
            "6300/6300 [==============================] - 26s 4ms/step - loss: 0.3732 - accuracy: 0.8769 - val_loss: 0.3706 - val_accuracy: 0.8782\n",
            "Epoch 28/100\n",
            "6300/6300 [==============================] - 25s 4ms/step - loss: 0.3720 - accuracy: 0.8775 - val_loss: 0.3707 - val_accuracy: 0.8782\n",
            "Epoch 29/100\n",
            "6300/6300 [==============================] - 25s 4ms/step - loss: 0.3740 - accuracy: 0.8765 - val_loss: 0.3706 - val_accuracy: 0.8782\n",
            "Epoch 30/100\n",
            "6300/6300 [==============================] - 26s 4ms/step - loss: 0.3747 - accuracy: 0.8762 - val_loss: 0.3706 - val_accuracy: 0.8782\n",
            "Epoch 31/100\n",
            "6300/6300 [==============================] - 26s 4ms/step - loss: 0.3720 - accuracy: 0.8775 - val_loss: 0.3709 - val_accuracy: 0.8782\n",
            "Epoch 32/100\n",
            "6300/6300 [==============================] - 26s 4ms/step - loss: 0.3719 - accuracy: 0.8775 - val_loss: 0.3707 - val_accuracy: 0.8782\n",
            "Epoch 33/100\n",
            "6300/6300 [==============================] - 26s 4ms/step - loss: 0.3731 - accuracy: 0.8769 - val_loss: 0.3715 - val_accuracy: 0.8782\n",
            "Epoch 34/100\n",
            "6300/6300 [==============================] - 26s 4ms/step - loss: 0.3711 - accuracy: 0.8780 - val_loss: 0.3706 - val_accuracy: 0.8782\n",
            "Epoch 35/100\n",
            "6300/6300 [==============================] - 26s 4ms/step - loss: 0.3735 - accuracy: 0.8768 - val_loss: 0.3708 - val_accuracy: 0.8782\n",
            "Epoch 36/100\n",
            "6300/6300 [==============================] - 25s 4ms/step - loss: 0.3746 - accuracy: 0.8762 - val_loss: 0.3706 - val_accuracy: 0.8782\n",
            "Epoch 37/100\n",
            "6300/6300 [==============================] - 26s 4ms/step - loss: 0.3740 - accuracy: 0.8765 - val_loss: 0.3706 - val_accuracy: 0.8782\n",
            "Epoch 38/100\n",
            "6300/6300 [==============================] - 26s 4ms/step - loss: 0.3744 - accuracy: 0.8763 - val_loss: 0.3706 - val_accuracy: 0.8782\n",
            "Epoch 39/100\n",
            "6300/6300 [==============================] - 26s 4ms/step - loss: 0.3760 - accuracy: 0.8755 - val_loss: 0.3707 - val_accuracy: 0.8782\n",
            "Epoch 40/100\n",
            "6300/6300 [==============================] - 26s 4ms/step - loss: 0.3729 - accuracy: 0.8770 - val_loss: 0.3706 - val_accuracy: 0.8782\n",
            "Epoch 41/100\n",
            "6300/6300 [==============================] - 26s 4ms/step - loss: 0.3734 - accuracy: 0.8768 - val_loss: 0.3707 - val_accuracy: 0.8782\n",
            "Epoch 42/100\n",
            "6300/6300 [==============================] - 26s 4ms/step - loss: 0.3730 - accuracy: 0.8770 - val_loss: 0.3706 - val_accuracy: 0.8782\n",
            "Epoch 43/100\n",
            "6300/6300 [==============================] - 26s 4ms/step - loss: 0.3772 - accuracy: 0.8748 - val_loss: 0.3707 - val_accuracy: 0.8782\n",
            "Epoch 44/100\n",
            "6300/6300 [==============================] - 26s 4ms/step - loss: 0.3727 - accuracy: 0.8772 - val_loss: 0.3710 - val_accuracy: 0.8782\n",
            "Epoch 45/100\n",
            "6300/6300 [==============================] - 26s 4ms/step - loss: 0.3731 - accuracy: 0.8770 - val_loss: 0.3710 - val_accuracy: 0.8782\n",
            "Epoch 46/100\n",
            "6300/6300 [==============================] - 26s 4ms/step - loss: 0.3753 - accuracy: 0.8758 - val_loss: 0.3709 - val_accuracy: 0.8782\n",
            "Epoch 47/100\n",
            "6300/6300 [==============================] - 26s 4ms/step - loss: 0.3768 - accuracy: 0.8751 - val_loss: 0.3706 - val_accuracy: 0.8782\n",
            "Epoch 48/100\n",
            "6300/6300 [==============================] - 26s 4ms/step - loss: 0.3740 - accuracy: 0.8765 - val_loss: 0.3706 - val_accuracy: 0.8782\n",
            "Epoch 49/100\n",
            "6300/6300 [==============================] - 26s 4ms/step - loss: 0.3740 - accuracy: 0.8765 - val_loss: 0.3706 - val_accuracy: 0.8782\n",
            "Epoch 50/100\n",
            "6300/6300 [==============================] - 26s 4ms/step - loss: 0.3725 - accuracy: 0.8773 - val_loss: 0.3706 - val_accuracy: 0.8782\n",
            "Epoch 51/100\n",
            "6300/6300 [==============================] - 26s 4ms/step - loss: 0.3716 - accuracy: 0.8777 - val_loss: 0.3707 - val_accuracy: 0.8782\n",
            "Epoch 52/100\n",
            "6300/6300 [==============================] - 26s 4ms/step - loss: 0.3732 - accuracy: 0.8769 - val_loss: 0.3707 - val_accuracy: 0.8782\n",
            "Epoch 53/100\n",
            "6300/6300 [==============================] - 26s 4ms/step - loss: 0.3738 - accuracy: 0.8766 - val_loss: 0.3709 - val_accuracy: 0.8782\n",
            "Epoch 54/100\n",
            "6300/6300 [==============================] - 26s 4ms/step - loss: 0.3730 - accuracy: 0.8770 - val_loss: 0.3706 - val_accuracy: 0.8782\n",
            "Epoch 55/100\n",
            "6300/6300 [==============================] - 26s 4ms/step - loss: 0.3710 - accuracy: 0.8780 - val_loss: 0.3706 - val_accuracy: 0.8782\n",
            "Epoch 56/100\n",
            "6300/6300 [==============================] - 26s 4ms/step - loss: 0.3739 - accuracy: 0.8766 - val_loss: 0.3706 - val_accuracy: 0.8782\n",
            "Epoch 57/100\n",
            "6300/6300 [==============================] - 26s 4ms/step - loss: 0.3728 - accuracy: 0.8771 - val_loss: 0.3709 - val_accuracy: 0.8782\n",
            "Epoch 58/100\n",
            "6300/6300 [==============================] - 26s 4ms/step - loss: 0.3716 - accuracy: 0.8777 - val_loss: 0.3706 - val_accuracy: 0.8782\n",
            "Epoch 59/100\n",
            "6300/6300 [==============================] - 26s 4ms/step - loss: 0.3729 - accuracy: 0.8770 - val_loss: 0.3707 - val_accuracy: 0.8782\n",
            "Epoch 60/100\n",
            "6300/6300 [==============================] - 26s 4ms/step - loss: 0.3726 - accuracy: 0.8772 - val_loss: 0.3714 - val_accuracy: 0.8782\n",
            "Epoch 61/100\n",
            "6300/6300 [==============================] - 26s 4ms/step - loss: 0.3723 - accuracy: 0.8774 - val_loss: 0.3727 - val_accuracy: 0.8782\n",
            "Epoch 62/100\n",
            "6300/6300 [==============================] - 26s 4ms/step - loss: 0.3717 - accuracy: 0.8777 - val_loss: 0.3706 - val_accuracy: 0.8782\n",
            "Epoch 63/100\n",
            "6300/6300 [==============================] - 26s 4ms/step - loss: 0.3737 - accuracy: 0.8767 - val_loss: 0.3710 - val_accuracy: 0.8782\n",
            "Epoch 64/100\n",
            "6300/6300 [==============================] - 26s 4ms/step - loss: 0.3747 - accuracy: 0.8761 - val_loss: 0.3707 - val_accuracy: 0.8782\n",
            "Epoch 65/100\n",
            "6300/6300 [==============================] - 26s 4ms/step - loss: 0.3717 - accuracy: 0.8776 - val_loss: 0.3706 - val_accuracy: 0.8782\n",
            "Epoch 66/100\n",
            "6300/6300 [==============================] - 26s 4ms/step - loss: 0.3725 - accuracy: 0.8773 - val_loss: 0.3706 - val_accuracy: 0.8782\n",
            "Epoch 67/100\n",
            "6300/6300 [==============================] - 26s 4ms/step - loss: 0.3749 - accuracy: 0.8761 - val_loss: 0.3706 - val_accuracy: 0.8782\n",
            "Epoch 68/100\n",
            "6300/6300 [==============================] - 26s 4ms/step - loss: 0.3712 - accuracy: 0.8779 - val_loss: 0.3707 - val_accuracy: 0.8782\n",
            "Epoch 69/100\n",
            "6300/6300 [==============================] - 26s 4ms/step - loss: 0.3712 - accuracy: 0.8779 - val_loss: 0.3708 - val_accuracy: 0.8782\n",
            "Epoch 70/100\n",
            "6300/6300 [==============================] - 26s 4ms/step - loss: 0.3748 - accuracy: 0.8761 - val_loss: 0.3706 - val_accuracy: 0.8782\n",
            "Epoch 71/100\n",
            "6300/6300 [==============================] - 26s 4ms/step - loss: 0.3727 - accuracy: 0.8771 - val_loss: 0.3706 - val_accuracy: 0.8782\n",
            "Epoch 72/100\n",
            "6300/6300 [==============================] - 26s 4ms/step - loss: 0.3730 - accuracy: 0.8770 - val_loss: 0.3706 - val_accuracy: 0.8782\n",
            "Epoch 73/100\n",
            "6300/6300 [==============================] - 26s 4ms/step - loss: 0.3721 - accuracy: 0.8775 - val_loss: 0.3707 - val_accuracy: 0.8782\n",
            "Epoch 74/100\n",
            "6300/6300 [==============================] - 26s 4ms/step - loss: 0.3714 - accuracy: 0.8778 - val_loss: 0.3707 - val_accuracy: 0.8782\n",
            "Epoch 75/100\n",
            "6300/6300 [==============================] - 26s 4ms/step - loss: 0.3708 - accuracy: 0.8781 - val_loss: 0.3706 - val_accuracy: 0.8782\n",
            "Epoch 76/100\n",
            "6300/6300 [==============================] - 26s 4ms/step - loss: 0.3742 - accuracy: 0.8764 - val_loss: 0.3706 - val_accuracy: 0.8782\n",
            "Epoch 77/100\n",
            "6300/6300 [==============================] - 26s 4ms/step - loss: 0.3733 - accuracy: 0.8768 - val_loss: 0.3720 - val_accuracy: 0.8782\n",
            "Epoch 78/100\n",
            "6300/6300 [==============================] - 27s 4ms/step - loss: 0.3748 - accuracy: 0.8761 - val_loss: 0.3706 - val_accuracy: 0.8782\n",
            "Epoch 79/100\n",
            "6300/6300 [==============================] - 26s 4ms/step - loss: 0.3726 - accuracy: 0.8772 - val_loss: 0.3707 - val_accuracy: 0.8782\n",
            "Epoch 80/100\n",
            "6300/6300 [==============================] - 27s 4ms/step - loss: 0.3745 - accuracy: 0.8762 - val_loss: 0.3706 - val_accuracy: 0.8782\n",
            "Epoch 81/100\n",
            "6300/6300 [==============================] - 27s 4ms/step - loss: 0.3747 - accuracy: 0.8761 - val_loss: 0.3706 - val_accuracy: 0.8782\n",
            "Epoch 82/100\n",
            "6300/6300 [==============================] - 27s 4ms/step - loss: 0.3739 - accuracy: 0.8765 - val_loss: 0.3706 - val_accuracy: 0.8782\n",
            "Epoch 83/100\n",
            "6300/6300 [==============================] - 26s 4ms/step - loss: 0.3728 - accuracy: 0.8771 - val_loss: 0.3708 - val_accuracy: 0.8782\n",
            "Epoch 84/100\n",
            "6300/6300 [==============================] - 26s 4ms/step - loss: 0.3732 - accuracy: 0.8769 - val_loss: 0.3706 - val_accuracy: 0.8782\n",
            "Epoch 85/100\n",
            "6300/6300 [==============================] - 27s 4ms/step - loss: 0.3744 - accuracy: 0.8763 - val_loss: 0.3710 - val_accuracy: 0.8782\n",
            "Epoch 86/100\n",
            "6300/6300 [==============================] - 26s 4ms/step - loss: 0.3738 - accuracy: 0.8766 - val_loss: 0.3706 - val_accuracy: 0.8782\n",
            "Epoch 87/100\n",
            "6300/6300 [==============================] - 26s 4ms/step - loss: 0.3727 - accuracy: 0.8771 - val_loss: 0.3711 - val_accuracy: 0.8782\n",
            "Epoch 88/100\n",
            "6300/6300 [==============================] - 27s 4ms/step - loss: 0.3738 - accuracy: 0.8766 - val_loss: 0.3706 - val_accuracy: 0.8782\n",
            "Epoch 89/100\n",
            "6300/6300 [==============================] - 27s 4ms/step - loss: 0.3732 - accuracy: 0.8769 - val_loss: 0.3706 - val_accuracy: 0.8782\n",
            "Epoch 90/100\n",
            "6300/6300 [==============================] - 27s 4ms/step - loss: 0.3775 - accuracy: 0.8746 - val_loss: 0.3707 - val_accuracy: 0.8782\n",
            "Epoch 91/100\n",
            "6300/6300 [==============================] - 27s 4ms/step - loss: 0.3742 - accuracy: 0.8764 - val_loss: 0.3706 - val_accuracy: 0.8782\n",
            "Epoch 92/100\n",
            "6300/6300 [==============================] - 27s 4ms/step - loss: 0.3748 - accuracy: 0.8761 - val_loss: 0.3712 - val_accuracy: 0.8782\n",
            "Epoch 93/100\n",
            "6300/6300 [==============================] - 26s 4ms/step - loss: 0.3719 - accuracy: 0.8776 - val_loss: 0.3707 - val_accuracy: 0.8782\n",
            "Epoch 94/100\n",
            "6300/6300 [==============================] - 27s 4ms/step - loss: 0.3721 - accuracy: 0.8775 - val_loss: 0.3706 - val_accuracy: 0.8782\n",
            "Epoch 95/100\n",
            "6300/6300 [==============================] - 27s 4ms/step - loss: 0.3720 - accuracy: 0.8775 - val_loss: 0.3707 - val_accuracy: 0.8782\n",
            "Epoch 96/100\n",
            "6300/6300 [==============================] - 26s 4ms/step - loss: 0.3735 - accuracy: 0.8768 - val_loss: 0.3706 - val_accuracy: 0.8782\n",
            "Epoch 97/100\n",
            "6300/6300 [==============================] - 27s 4ms/step - loss: 0.3747 - accuracy: 0.8761 - val_loss: 0.3706 - val_accuracy: 0.8782\n",
            "Epoch 98/100\n",
            "6300/6300 [==============================] - 26s 4ms/step - loss: 0.3739 - accuracy: 0.8765 - val_loss: 0.3706 - val_accuracy: 0.8782\n",
            "Epoch 99/100\n",
            "6300/6300 [==============================] - 26s 4ms/step - loss: 0.3711 - accuracy: 0.8780 - val_loss: 0.3706 - val_accuracy: 0.8782\n",
            "Epoch 100/100\n",
            "6300/6300 [==============================] - 26s 4ms/step - loss: 0.3728 - accuracy: 0.8771 - val_loss: 0.3706 - val_accuracy: 0.8782\n",
            "Epoch 1/100\n"
          ],
          "name": "stdout"
        }
      ]
    },
    {
      "cell_type": "code",
      "metadata": {
        "id": "aJZIqfb7Avj_"
      },
      "source": [
        "tuner.results_summary()"
      ],
      "execution_count": null,
      "outputs": []
    },
    {
      "cell_type": "code",
      "metadata": {
        "colab": {
          "base_uri": "https://localhost:8080/"
        },
        "id": "ZuqxUR0IwDXT",
        "outputId": "bdacb9b8-b0c5-40fc-e1eb-f428ab30aa51"
      },
      "source": [
        "    model2 = RandomForestClassifier(max_features= None, n_jobs = -1,random_state =50, min_samples_leaf = 1,n_estimators=150,max_depth=None,min_samples_split=4,criterion='gini')\n",
        "    model2.fit(train_x,train_y)\n",
        "    print(\"Training accuracy=\",model2.score(train_x,train_y))"
      ],
      "execution_count": null,
      "outputs": [
        {
          "output_type": "stream",
          "text": [
            "Training accuracy= 0.9354960317460318\n"
          ],
          "name": "stdout"
        }
      ]
    },
    {
      "cell_type": "code",
      "metadata": {
        "colab": {
          "base_uri": "https://localhost:8080/",
          "height": 370
        },
        "id": "jt3XDJr3GN0w",
        "outputId": "8e0ffca8-90ba-4c49-887b-747cd36cb339"
      },
      "source": [
        "predic=pd.DataFrame()\n",
        "test_data1=test_data.to_numpy()\n",
        "for i in range(len(test_data1)):\n",
        "  df=test_data1[i]\n",
        "  pred_val=model2.predict([df])\n",
        "  pred_val=pd.DataFrame(pred_val)\n",
        "  predic=predic.append(pred_val,ignore_index=True)"
      ],
      "execution_count": null,
      "outputs": [
        {
          "output_type": "error",
          "ename": "KeyboardInterrupt",
          "evalue": "ignored",
          "traceback": [
            "\u001b[0;31m---------------------------------------------------------------------------\u001b[0m",
            "\u001b[0;31mKeyboardInterrupt\u001b[0m                         Traceback (most recent call last)",
            "\u001b[0;32m<ipython-input-25-c96f331f988c>\u001b[0m in \u001b[0;36m<module>\u001b[0;34m()\u001b[0m\n\u001b[1;32m      3\u001b[0m \u001b[0;32mfor\u001b[0m \u001b[0mi\u001b[0m \u001b[0;32min\u001b[0m \u001b[0mrange\u001b[0m\u001b[0;34m(\u001b[0m\u001b[0mlen\u001b[0m\u001b[0;34m(\u001b[0m\u001b[0mtest_data1\u001b[0m\u001b[0;34m)\u001b[0m\u001b[0;34m)\u001b[0m\u001b[0;34m:\u001b[0m\u001b[0;34m\u001b[0m\u001b[0;34m\u001b[0m\u001b[0m\n\u001b[1;32m      4\u001b[0m   \u001b[0mdf\u001b[0m\u001b[0;34m=\u001b[0m\u001b[0mtest_data1\u001b[0m\u001b[0;34m[\u001b[0m\u001b[0mi\u001b[0m\u001b[0;34m]\u001b[0m\u001b[0;34m\u001b[0m\u001b[0;34m\u001b[0m\u001b[0m\n\u001b[0;32m----> 5\u001b[0;31m   \u001b[0mpred_val\u001b[0m\u001b[0;34m=\u001b[0m\u001b[0mmodel2\u001b[0m\u001b[0;34m.\u001b[0m\u001b[0mpredict\u001b[0m\u001b[0;34m(\u001b[0m\u001b[0;34m[\u001b[0m\u001b[0mdf\u001b[0m\u001b[0;34m]\u001b[0m\u001b[0;34m)\u001b[0m\u001b[0;34m\u001b[0m\u001b[0;34m\u001b[0m\u001b[0m\n\u001b[0m\u001b[1;32m      6\u001b[0m   \u001b[0mpred_val\u001b[0m\u001b[0;34m=\u001b[0m\u001b[0mpd\u001b[0m\u001b[0;34m.\u001b[0m\u001b[0mDataFrame\u001b[0m\u001b[0;34m(\u001b[0m\u001b[0mpred_val\u001b[0m\u001b[0;34m)\u001b[0m\u001b[0;34m\u001b[0m\u001b[0;34m\u001b[0m\u001b[0m\n\u001b[1;32m      7\u001b[0m   \u001b[0mpredic\u001b[0m\u001b[0;34m=\u001b[0m\u001b[0mpredic\u001b[0m\u001b[0;34m.\u001b[0m\u001b[0mappend\u001b[0m\u001b[0;34m(\u001b[0m\u001b[0mpred_val\u001b[0m\u001b[0;34m,\u001b[0m\u001b[0mignore_index\u001b[0m\u001b[0;34m=\u001b[0m\u001b[0;32mTrue\u001b[0m\u001b[0;34m)\u001b[0m\u001b[0;34m\u001b[0m\u001b[0;34m\u001b[0m\u001b[0m\n",
            "\u001b[0;32m/usr/local/lib/python3.7/dist-packages/sklearn/ensemble/_forest.py\u001b[0m in \u001b[0;36mpredict\u001b[0;34m(self, X)\u001b[0m\n\u001b[1;32m    610\u001b[0m             \u001b[0mThe\u001b[0m \u001b[0mpredicted\u001b[0m \u001b[0mclasses\u001b[0m\u001b[0;34m.\u001b[0m\u001b[0;34m\u001b[0m\u001b[0;34m\u001b[0m\u001b[0m\n\u001b[1;32m    611\u001b[0m         \"\"\"\n\u001b[0;32m--> 612\u001b[0;31m         \u001b[0mproba\u001b[0m \u001b[0;34m=\u001b[0m \u001b[0mself\u001b[0m\u001b[0;34m.\u001b[0m\u001b[0mpredict_proba\u001b[0m\u001b[0;34m(\u001b[0m\u001b[0mX\u001b[0m\u001b[0;34m)\u001b[0m\u001b[0;34m\u001b[0m\u001b[0;34m\u001b[0m\u001b[0m\n\u001b[0m\u001b[1;32m    613\u001b[0m \u001b[0;34m\u001b[0m\u001b[0m\n\u001b[1;32m    614\u001b[0m         \u001b[0;32mif\u001b[0m \u001b[0mself\u001b[0m\u001b[0;34m.\u001b[0m\u001b[0mn_outputs_\u001b[0m \u001b[0;34m==\u001b[0m \u001b[0;36m1\u001b[0m\u001b[0;34m:\u001b[0m\u001b[0;34m\u001b[0m\u001b[0;34m\u001b[0m\u001b[0m\n",
            "\u001b[0;32m/usr/local/lib/python3.7/dist-packages/sklearn/ensemble/_forest.py\u001b[0m in \u001b[0;36mpredict_proba\u001b[0;34m(self, X)\u001b[0m\n\u001b[1;32m    667\u001b[0m             delayed(_accumulate_prediction)(e.predict_proba, X, all_proba,\n\u001b[1;32m    668\u001b[0m                                             lock)\n\u001b[0;32m--> 669\u001b[0;31m             for e in self.estimators_)\n\u001b[0m\u001b[1;32m    670\u001b[0m \u001b[0;34m\u001b[0m\u001b[0m\n\u001b[1;32m    671\u001b[0m         \u001b[0;32mfor\u001b[0m \u001b[0mproba\u001b[0m \u001b[0;32min\u001b[0m \u001b[0mall_proba\u001b[0m\u001b[0;34m:\u001b[0m\u001b[0;34m\u001b[0m\u001b[0;34m\u001b[0m\u001b[0m\n",
            "\u001b[0;32m/usr/local/lib/python3.7/dist-packages/joblib/parallel.py\u001b[0m in \u001b[0;36m__call__\u001b[0;34m(self, iterable)\u001b[0m\n\u001b[1;32m   1062\u001b[0m                 \u001b[0mself\u001b[0m\u001b[0;34m.\u001b[0m\u001b[0m_backend\u001b[0m\u001b[0;34m.\u001b[0m\u001b[0mstop_call\u001b[0m\u001b[0;34m(\u001b[0m\u001b[0;34m)\u001b[0m\u001b[0;34m\u001b[0m\u001b[0;34m\u001b[0m\u001b[0m\n\u001b[1;32m   1063\u001b[0m             \u001b[0;32mif\u001b[0m \u001b[0;32mnot\u001b[0m \u001b[0mself\u001b[0m\u001b[0;34m.\u001b[0m\u001b[0m_managed_backend\u001b[0m\u001b[0;34m:\u001b[0m\u001b[0;34m\u001b[0m\u001b[0;34m\u001b[0m\u001b[0m\n\u001b[0;32m-> 1064\u001b[0;31m                 \u001b[0mself\u001b[0m\u001b[0;34m.\u001b[0m\u001b[0m_terminate_backend\u001b[0m\u001b[0;34m(\u001b[0m\u001b[0;34m)\u001b[0m\u001b[0;34m\u001b[0m\u001b[0;34m\u001b[0m\u001b[0m\n\u001b[0m\u001b[1;32m   1065\u001b[0m             \u001b[0mself\u001b[0m\u001b[0;34m.\u001b[0m\u001b[0m_jobs\u001b[0m \u001b[0;34m=\u001b[0m \u001b[0mlist\u001b[0m\u001b[0;34m(\u001b[0m\u001b[0;34m)\u001b[0m\u001b[0;34m\u001b[0m\u001b[0;34m\u001b[0m\u001b[0m\n\u001b[1;32m   1066\u001b[0m             \u001b[0mself\u001b[0m\u001b[0;34m.\u001b[0m\u001b[0m_pickle_cache\u001b[0m \u001b[0;34m=\u001b[0m \u001b[0;32mNone\u001b[0m\u001b[0;34m\u001b[0m\u001b[0;34m\u001b[0m\u001b[0m\n",
            "\u001b[0;32m/usr/local/lib/python3.7/dist-packages/joblib/parallel.py\u001b[0m in \u001b[0;36m_terminate_backend\u001b[0;34m(self)\u001b[0m\n\u001b[1;32m    755\u001b[0m     \u001b[0;32mdef\u001b[0m \u001b[0m_terminate_backend\u001b[0m\u001b[0;34m(\u001b[0m\u001b[0mself\u001b[0m\u001b[0;34m)\u001b[0m\u001b[0;34m:\u001b[0m\u001b[0;34m\u001b[0m\u001b[0;34m\u001b[0m\u001b[0m\n\u001b[1;32m    756\u001b[0m         \u001b[0;32mif\u001b[0m \u001b[0mself\u001b[0m\u001b[0;34m.\u001b[0m\u001b[0m_backend\u001b[0m \u001b[0;32mis\u001b[0m \u001b[0;32mnot\u001b[0m \u001b[0;32mNone\u001b[0m\u001b[0;34m:\u001b[0m\u001b[0;34m\u001b[0m\u001b[0;34m\u001b[0m\u001b[0m\n\u001b[0;32m--> 757\u001b[0;31m             \u001b[0mself\u001b[0m\u001b[0;34m.\u001b[0m\u001b[0m_backend\u001b[0m\u001b[0;34m.\u001b[0m\u001b[0mterminate\u001b[0m\u001b[0;34m(\u001b[0m\u001b[0;34m)\u001b[0m\u001b[0;34m\u001b[0m\u001b[0;34m\u001b[0m\u001b[0m\n\u001b[0m\u001b[1;32m    758\u001b[0m \u001b[0;34m\u001b[0m\u001b[0m\n\u001b[1;32m    759\u001b[0m     \u001b[0;32mdef\u001b[0m \u001b[0m_dispatch\u001b[0m\u001b[0;34m(\u001b[0m\u001b[0mself\u001b[0m\u001b[0;34m,\u001b[0m \u001b[0mbatch\u001b[0m\u001b[0;34m)\u001b[0m\u001b[0;34m:\u001b[0m\u001b[0;34m\u001b[0m\u001b[0;34m\u001b[0m\u001b[0m\n",
            "\u001b[0;32m/usr/local/lib/python3.7/dist-packages/joblib/_parallel_backends.py\u001b[0m in \u001b[0;36mterminate\u001b[0;34m(self)\u001b[0m\n\u001b[1;32m    241\u001b[0m         \u001b[0;32mif\u001b[0m \u001b[0mself\u001b[0m\u001b[0;34m.\u001b[0m\u001b[0m_pool\u001b[0m \u001b[0;32mis\u001b[0m \u001b[0;32mnot\u001b[0m \u001b[0;32mNone\u001b[0m\u001b[0;34m:\u001b[0m\u001b[0;34m\u001b[0m\u001b[0;34m\u001b[0m\u001b[0m\n\u001b[1;32m    242\u001b[0m             \u001b[0mself\u001b[0m\u001b[0;34m.\u001b[0m\u001b[0m_pool\u001b[0m\u001b[0;34m.\u001b[0m\u001b[0mclose\u001b[0m\u001b[0;34m(\u001b[0m\u001b[0;34m)\u001b[0m\u001b[0;34m\u001b[0m\u001b[0;34m\u001b[0m\u001b[0m\n\u001b[0;32m--> 243\u001b[0;31m             \u001b[0mself\u001b[0m\u001b[0;34m.\u001b[0m\u001b[0m_pool\u001b[0m\u001b[0;34m.\u001b[0m\u001b[0mterminate\u001b[0m\u001b[0;34m(\u001b[0m\u001b[0;34m)\u001b[0m  \u001b[0;31m# terminate does a join()\u001b[0m\u001b[0;34m\u001b[0m\u001b[0;34m\u001b[0m\u001b[0m\n\u001b[0m\u001b[1;32m    244\u001b[0m             \u001b[0mself\u001b[0m\u001b[0;34m.\u001b[0m\u001b[0m_pool\u001b[0m \u001b[0;34m=\u001b[0m \u001b[0;32mNone\u001b[0m\u001b[0;34m\u001b[0m\u001b[0;34m\u001b[0m\u001b[0m\n\u001b[1;32m    245\u001b[0m \u001b[0;34m\u001b[0m\u001b[0m\n",
            "\u001b[0;32m/usr/lib/python3.7/multiprocessing/pool.py\u001b[0m in \u001b[0;36mterminate\u001b[0;34m(self)\u001b[0m\n\u001b[1;32m    546\u001b[0m         \u001b[0mself\u001b[0m\u001b[0;34m.\u001b[0m\u001b[0m_state\u001b[0m \u001b[0;34m=\u001b[0m \u001b[0mTERMINATE\u001b[0m\u001b[0;34m\u001b[0m\u001b[0;34m\u001b[0m\u001b[0m\n\u001b[1;32m    547\u001b[0m         \u001b[0mself\u001b[0m\u001b[0;34m.\u001b[0m\u001b[0m_worker_handler\u001b[0m\u001b[0;34m.\u001b[0m\u001b[0m_state\u001b[0m \u001b[0;34m=\u001b[0m \u001b[0mTERMINATE\u001b[0m\u001b[0;34m\u001b[0m\u001b[0;34m\u001b[0m\u001b[0m\n\u001b[0;32m--> 548\u001b[0;31m         \u001b[0mself\u001b[0m\u001b[0;34m.\u001b[0m\u001b[0m_terminate\u001b[0m\u001b[0;34m(\u001b[0m\u001b[0;34m)\u001b[0m\u001b[0;34m\u001b[0m\u001b[0;34m\u001b[0m\u001b[0m\n\u001b[0m\u001b[1;32m    549\u001b[0m \u001b[0;34m\u001b[0m\u001b[0m\n\u001b[1;32m    550\u001b[0m     \u001b[0;32mdef\u001b[0m \u001b[0mjoin\u001b[0m\u001b[0;34m(\u001b[0m\u001b[0mself\u001b[0m\u001b[0;34m)\u001b[0m\u001b[0;34m:\u001b[0m\u001b[0;34m\u001b[0m\u001b[0;34m\u001b[0m\u001b[0m\n",
            "\u001b[0;32m/usr/lib/python3.7/multiprocessing/util.py\u001b[0m in \u001b[0;36m__call__\u001b[0;34m(self, wr, _finalizer_registry, sub_debug, getpid)\u001b[0m\n\u001b[1;32m    222\u001b[0m                 sub_debug('finalizer calling %s with args %s and kwargs %s',\n\u001b[1;32m    223\u001b[0m                           self._callback, self._args, self._kwargs)\n\u001b[0;32m--> 224\u001b[0;31m                 \u001b[0mres\u001b[0m \u001b[0;34m=\u001b[0m \u001b[0mself\u001b[0m\u001b[0;34m.\u001b[0m\u001b[0m_callback\u001b[0m\u001b[0;34m(\u001b[0m\u001b[0;34m*\u001b[0m\u001b[0mself\u001b[0m\u001b[0;34m.\u001b[0m\u001b[0m_args\u001b[0m\u001b[0;34m,\u001b[0m \u001b[0;34m**\u001b[0m\u001b[0mself\u001b[0m\u001b[0;34m.\u001b[0m\u001b[0m_kwargs\u001b[0m\u001b[0;34m)\u001b[0m\u001b[0;34m\u001b[0m\u001b[0;34m\u001b[0m\u001b[0m\n\u001b[0m\u001b[1;32m    225\u001b[0m             \u001b[0mself\u001b[0m\u001b[0;34m.\u001b[0m\u001b[0m_weakref\u001b[0m \u001b[0;34m=\u001b[0m \u001b[0mself\u001b[0m\u001b[0;34m.\u001b[0m\u001b[0m_callback\u001b[0m \u001b[0;34m=\u001b[0m \u001b[0mself\u001b[0m\u001b[0;34m.\u001b[0m\u001b[0m_args\u001b[0m \u001b[0;34m=\u001b[0m\u001b[0;31m \u001b[0m\u001b[0;31m\\\u001b[0m\u001b[0;34m\u001b[0m\u001b[0;34m\u001b[0m\u001b[0m\n\u001b[1;32m    226\u001b[0m                             \u001b[0mself\u001b[0m\u001b[0;34m.\u001b[0m\u001b[0m_kwargs\u001b[0m \u001b[0;34m=\u001b[0m \u001b[0mself\u001b[0m\u001b[0;34m.\u001b[0m\u001b[0m_key\u001b[0m \u001b[0;34m=\u001b[0m \u001b[0;32mNone\u001b[0m\u001b[0;34m\u001b[0m\u001b[0;34m\u001b[0m\u001b[0m\n",
            "\u001b[0;32m/usr/lib/python3.7/multiprocessing/pool.py\u001b[0m in \u001b[0;36m_terminate_pool\u001b[0;34m(cls, taskqueue, inqueue, outqueue, pool, worker_handler, task_handler, result_handler, cache)\u001b[0m\n\u001b[1;32m    592\u001b[0m         \u001b[0mutil\u001b[0m\u001b[0;34m.\u001b[0m\u001b[0mdebug\u001b[0m\u001b[0;34m(\u001b[0m\u001b[0;34m'joining worker handler'\u001b[0m\u001b[0;34m)\u001b[0m\u001b[0;34m\u001b[0m\u001b[0;34m\u001b[0m\u001b[0m\n\u001b[1;32m    593\u001b[0m         \u001b[0;32mif\u001b[0m \u001b[0mthreading\u001b[0m\u001b[0;34m.\u001b[0m\u001b[0mcurrent_thread\u001b[0m\u001b[0;34m(\u001b[0m\u001b[0;34m)\u001b[0m \u001b[0;32mis\u001b[0m \u001b[0;32mnot\u001b[0m \u001b[0mworker_handler\u001b[0m\u001b[0;34m:\u001b[0m\u001b[0;34m\u001b[0m\u001b[0;34m\u001b[0m\u001b[0m\n\u001b[0;32m--> 594\u001b[0;31m             \u001b[0mworker_handler\u001b[0m\u001b[0;34m.\u001b[0m\u001b[0mjoin\u001b[0m\u001b[0;34m(\u001b[0m\u001b[0;34m)\u001b[0m\u001b[0;34m\u001b[0m\u001b[0;34m\u001b[0m\u001b[0m\n\u001b[0m\u001b[1;32m    595\u001b[0m \u001b[0;34m\u001b[0m\u001b[0m\n\u001b[1;32m    596\u001b[0m         \u001b[0;31m# Terminate workers which haven't already finished.\u001b[0m\u001b[0;34m\u001b[0m\u001b[0;34m\u001b[0m\u001b[0;34m\u001b[0m\u001b[0m\n",
            "\u001b[0;32m/usr/lib/python3.7/threading.py\u001b[0m in \u001b[0;36mjoin\u001b[0;34m(self, timeout)\u001b[0m\n\u001b[1;32m   1042\u001b[0m \u001b[0;34m\u001b[0m\u001b[0m\n\u001b[1;32m   1043\u001b[0m         \u001b[0;32mif\u001b[0m \u001b[0mtimeout\u001b[0m \u001b[0;32mis\u001b[0m \u001b[0;32mNone\u001b[0m\u001b[0;34m:\u001b[0m\u001b[0;34m\u001b[0m\u001b[0;34m\u001b[0m\u001b[0m\n\u001b[0;32m-> 1044\u001b[0;31m             \u001b[0mself\u001b[0m\u001b[0;34m.\u001b[0m\u001b[0m_wait_for_tstate_lock\u001b[0m\u001b[0;34m(\u001b[0m\u001b[0;34m)\u001b[0m\u001b[0;34m\u001b[0m\u001b[0;34m\u001b[0m\u001b[0m\n\u001b[0m\u001b[1;32m   1045\u001b[0m         \u001b[0;32melse\u001b[0m\u001b[0;34m:\u001b[0m\u001b[0;34m\u001b[0m\u001b[0;34m\u001b[0m\u001b[0m\n\u001b[1;32m   1046\u001b[0m             \u001b[0;31m# the behavior of a negative timeout isn't documented, but\u001b[0m\u001b[0;34m\u001b[0m\u001b[0;34m\u001b[0m\u001b[0;34m\u001b[0m\u001b[0m\n",
            "\u001b[0;32m/usr/lib/python3.7/threading.py\u001b[0m in \u001b[0;36m_wait_for_tstate_lock\u001b[0;34m(self, block, timeout)\u001b[0m\n\u001b[1;32m   1058\u001b[0m         \u001b[0;32mif\u001b[0m \u001b[0mlock\u001b[0m \u001b[0;32mis\u001b[0m \u001b[0;32mNone\u001b[0m\u001b[0;34m:\u001b[0m  \u001b[0;31m# already determined that the C code is done\u001b[0m\u001b[0;34m\u001b[0m\u001b[0;34m\u001b[0m\u001b[0m\n\u001b[1;32m   1059\u001b[0m             \u001b[0;32massert\u001b[0m \u001b[0mself\u001b[0m\u001b[0;34m.\u001b[0m\u001b[0m_is_stopped\u001b[0m\u001b[0;34m\u001b[0m\u001b[0;34m\u001b[0m\u001b[0m\n\u001b[0;32m-> 1060\u001b[0;31m         \u001b[0;32melif\u001b[0m \u001b[0mlock\u001b[0m\u001b[0;34m.\u001b[0m\u001b[0macquire\u001b[0m\u001b[0;34m(\u001b[0m\u001b[0mblock\u001b[0m\u001b[0;34m,\u001b[0m \u001b[0mtimeout\u001b[0m\u001b[0;34m)\u001b[0m\u001b[0;34m:\u001b[0m\u001b[0;34m\u001b[0m\u001b[0;34m\u001b[0m\u001b[0m\n\u001b[0m\u001b[1;32m   1061\u001b[0m             \u001b[0mlock\u001b[0m\u001b[0;34m.\u001b[0m\u001b[0mrelease\u001b[0m\u001b[0;34m(\u001b[0m\u001b[0;34m)\u001b[0m\u001b[0;34m\u001b[0m\u001b[0;34m\u001b[0m\u001b[0m\n\u001b[1;32m   1062\u001b[0m             \u001b[0mself\u001b[0m\u001b[0;34m.\u001b[0m\u001b[0m_stop\u001b[0m\u001b[0;34m(\u001b[0m\u001b[0;34m)\u001b[0m\u001b[0;34m\u001b[0m\u001b[0;34m\u001b[0m\u001b[0m\n",
            "\u001b[0;31mKeyboardInterrupt\u001b[0m: "
          ]
        }
      ]
    },
    {
      "cell_type": "code",
      "metadata": {
        "id": "mHc9gLbQQjSG"
      },
      "source": [
        "predic.to_csv('predictions_all.csv')"
      ],
      "execution_count": null,
      "outputs": []
    },
    {
      "cell_type": "markdown",
      "metadata": {
        "id": "anBkAsWkwIvU"
      },
      "source": [
        "# Stacking"
      ]
    },
    {
      "cell_type": "code",
      "metadata": {
        "id": "-ultRZR-wMN_"
      },
      "source": [
        "X=train_data.drop(columns='risk_flag')\n",
        "y=train_data['risk_flag']"
      ],
      "execution_count": null,
      "outputs": []
    },
    {
      "cell_type": "code",
      "metadata": {
        "id": "Ds2R_kOkwRPl"
      },
      "source": [
        "# let's divide our dataset into training set and hold out set by 50%\n",
        "train,val_train,test,val_test = train_test_split(X,y,test_size=0.5, random_state= 355)"
      ],
      "execution_count": null,
      "outputs": []
    },
    {
      "cell_type": "code",
      "metadata": {
        "id": "nhBVnFLWzL1N"
      },
      "source": [
        "# let's split the training set again into training and test dataset \n",
        "x_train,x_test,y_train,y_test =  train_test_split(train,test,test_size=0.2, random_state= 355)"
      ],
      "execution_count": null,
      "outputs": []
    },
    {
      "cell_type": "code",
      "metadata": {
        "colab": {
          "base_uri": "https://localhost:8080/"
        },
        "id": "QEuMO8kxzM1H",
        "outputId": "b030afb2-b639-4f9f-c967-fd5b12c081ba"
      },
      "source": [
        "rfc=RandomForestClassifier(max_features= None, n_jobs = -1, min_samples_leaf = 1,n_estimators=150,max_depth=None,min_samples_split=4,criterion='gini')\n",
        "rfc.fit(x_train,y_train)\n",
        "print(rfc.score(x_train, y_train))\n",
        "print(rfc.score(x_test,y_test))"
      ],
      "execution_count": null,
      "outputs": [
        {
          "output_type": "stream",
          "text": [
            "0.9396428571428571\n",
            "0.8984920634920635\n"
          ],
          "name": "stdout"
        }
      ]
    },
    {
      "cell_type": "code",
      "metadata": {
        "colab": {
          "base_uri": "https://localhost:8080/"
        },
        "id": "E2EAcm-wT_s-",
        "outputId": "b0922ee3-0be9-4696-c5f8-87e324d18a72"
      },
      "source": [
        "roc_auc_score(y_test, rfc.predict(x_test))"
      ],
      "execution_count": null,
      "outputs": [
        {
          "output_type": "execute_result",
          "data": {
            "text/plain": [
              "0.7313811972980525"
            ]
          },
          "metadata": {
            "tags": []
          },
          "execution_count": 150
        }
      ]
    },
    {
      "cell_type": "code",
      "metadata": {
        "id": "7MW3_Tkpokku"
      },
      "source": [
        "sc = StandardScaler()\n",
        "X_train_scaled = sc.fit_transform(x_train)\n",
        "X_test_scaled = sc.transform(x_test)"
      ],
      "execution_count": null,
      "outputs": []
    },
    {
      "cell_type": "code",
      "metadata": {
        "colab": {
          "base_uri": "https://localhost:8080/"
        },
        "id": "tN09nRIu5_cO",
        "outputId": "e8bedf44-a04f-4006-886c-1070daff93a6"
      },
      "source": [
        "knn=KNeighborsClassifier(n_neighbors=11,weights = 'distance')\n",
        "knn.fit(x_train,y_train)\n",
        "print(knn.score(x_test,y_test))\n",
        "knn.score(x_train,y_train)"
      ],
      "execution_count": null,
      "outputs": [
        {
          "output_type": "stream",
          "text": [
            "0.891468253968254\n"
          ],
          "name": "stdout"
        },
        {
          "output_type": "execute_result",
          "data": {
            "text/plain": [
              "0.9379861111111111"
            ]
          },
          "metadata": {
            "tags": []
          },
          "execution_count": 151
        }
      ]
    },
    {
      "cell_type": "code",
      "metadata": {
        "colab": {
          "base_uri": "https://localhost:8080/"
        },
        "id": "cO9e9uVOz_6V",
        "outputId": "00bccc21-8873-4fe8-e830-a5f0bdedc446"
      },
      "source": [
        "roc_auc_score(y_test, knn.predict(x_test))"
      ],
      "execution_count": null,
      "outputs": [
        {
          "output_type": "execute_result",
          "data": {
            "text/plain": [
              "0.7363501593208468"
            ]
          },
          "metadata": {
            "tags": []
          },
          "execution_count": 152
        }
      ]
    },
    {
      "cell_type": "code",
      "metadata": {
        "colab": {
          "base_uri": "https://localhost:8080/",
          "height": 477
        },
        "id": "p1WnV07qt9tG",
        "outputId": "37ddbd34-b000-42d6-9106-a416c794d257"
      },
      "source": [
        "neighbors = list(range(1,30))\n",
        "train_results = []\n",
        "test_results = []\n",
        "for n in neighbors:\n",
        "   model = KNeighborsClassifier(n_neighbors=n)\n",
        "   model.fit(x_train, y_train)\n",
        "   train_pred = model.predict(x_train)\n",
        "   false_positive_rate, true_positive_rate, thresholds = roc_curve(y_train, train_pred)\n",
        "   roc_auc = auc(false_positive_rate, true_positive_rate)\n",
        "   train_results.append(roc_auc)\n",
        "   y_pred = model.predict(x_test)\n",
        "   false_positive_rate, true_positive_rate, thresholds = roc_curve(y_test, y_pred)\n",
        "   roc_auc = auc(false_positive_rate, true_positive_rate)\n",
        "   test_results.append(roc_auc)\n",
        "from matplotlib.legend_handler import HandlerLine2D\n",
        "line1 = plt.plot(neighbors, train_results, label=\"Train AUC\")\n",
        "line2 = plt.plot(neighbors, test_results, label=\"Test AUC\")\n",
        "plt.legend(handler_map={line1: HandlerLine2D(numpoints=2)})\n",
        "plt.ylabel(\"AUC score\")\n",
        "plt.xlabel(\"n_neighbors\")\n",
        "plt.show()"
      ],
      "execution_count": null,
      "outputs": [
        {
          "output_type": "error",
          "ename": "TypeError",
          "evalue": "ignored",
          "traceback": [
            "\u001b[0;31m---------------------------------------------------------------------------\u001b[0m",
            "\u001b[0;31mTypeError\u001b[0m                                 Traceback (most recent call last)",
            "\u001b[0;32m<ipython-input-41-42264901650c>\u001b[0m in \u001b[0;36m<module>\u001b[0;34m()\u001b[0m\n\u001b[1;32m     16\u001b[0m \u001b[0mline1\u001b[0m \u001b[0;34m=\u001b[0m \u001b[0mplt\u001b[0m\u001b[0;34m.\u001b[0m\u001b[0mplot\u001b[0m\u001b[0;34m(\u001b[0m\u001b[0mneighbors\u001b[0m\u001b[0;34m,\u001b[0m \u001b[0mtrain_results\u001b[0m\u001b[0;34m,\u001b[0m \u001b[0mlabel\u001b[0m\u001b[0;34m=\u001b[0m\u001b[0;34m\"Train AUC\"\u001b[0m\u001b[0;34m)\u001b[0m\u001b[0;34m\u001b[0m\u001b[0;34m\u001b[0m\u001b[0m\n\u001b[1;32m     17\u001b[0m \u001b[0mline2\u001b[0m \u001b[0;34m=\u001b[0m \u001b[0mplt\u001b[0m\u001b[0;34m.\u001b[0m\u001b[0mplot\u001b[0m\u001b[0;34m(\u001b[0m\u001b[0mneighbors\u001b[0m\u001b[0;34m,\u001b[0m \u001b[0mtest_results\u001b[0m\u001b[0;34m,\u001b[0m \u001b[0mlabel\u001b[0m\u001b[0;34m=\u001b[0m\u001b[0;34m\"Test AUC\"\u001b[0m\u001b[0;34m)\u001b[0m\u001b[0;34m\u001b[0m\u001b[0;34m\u001b[0m\u001b[0m\n\u001b[0;32m---> 18\u001b[0;31m \u001b[0mplt\u001b[0m\u001b[0;34m.\u001b[0m\u001b[0mlegend\u001b[0m\u001b[0;34m(\u001b[0m\u001b[0mhandler_map\u001b[0m\u001b[0;34m=\u001b[0m\u001b[0;34m{\u001b[0m\u001b[0mline1\u001b[0m\u001b[0;34m:\u001b[0m \u001b[0mHandlerLine2D\u001b[0m\u001b[0;34m(\u001b[0m\u001b[0mnumpoints\u001b[0m\u001b[0;34m=\u001b[0m\u001b[0;36m2\u001b[0m\u001b[0;34m)\u001b[0m\u001b[0;34m}\u001b[0m\u001b[0;34m)\u001b[0m\u001b[0;34m\u001b[0m\u001b[0;34m\u001b[0m\u001b[0m\n\u001b[0m\u001b[1;32m     19\u001b[0m \u001b[0mplt\u001b[0m\u001b[0;34m.\u001b[0m\u001b[0mylabel\u001b[0m\u001b[0;34m(\u001b[0m\u001b[0;34m\"AUC score\"\u001b[0m\u001b[0;34m)\u001b[0m\u001b[0;34m\u001b[0m\u001b[0;34m\u001b[0m\u001b[0m\n\u001b[1;32m     20\u001b[0m \u001b[0mplt\u001b[0m\u001b[0;34m.\u001b[0m\u001b[0mxlabel\u001b[0m\u001b[0;34m(\u001b[0m\u001b[0;34m\"n_neighbors\"\u001b[0m\u001b[0;34m)\u001b[0m\u001b[0;34m\u001b[0m\u001b[0;34m\u001b[0m\u001b[0m\n",
            "\u001b[0;31mTypeError\u001b[0m: unhashable type: 'list'"
          ]
        },
        {
          "output_type": "display_data",
          "data": {
            "image/png": "[encoded data removed]",
            "text/plain": [
              "<Figure size 432x288 with 1 Axes>"
            ]
          },
          "metadata": {
            "tags": []
          }
        }
      ]
    },
    {
      "cell_type": "code",
      "metadata": {
        "colab": {
          "base_uri": "https://localhost:8080/",
          "height": 279
        },
        "id": "x09ANPKKwv_6",
        "outputId": "c5d335e9-42bb-41a7-a058-aa47d5a962b1"
      },
      "source": [
        "distances = [1, 2, 3, 4, 5]\n",
        "train_results = []\n",
        "test_results = []\n",
        "for p in distances:\n",
        "   model = KNeighborsClassifier(p=p)\n",
        "   model.fit(x_train, y_train)\n",
        "   train_pred = model.predict(x_train)\n",
        "   false_positive_rate, true_positive_rate, thresholds = roc_curve(y_train, train_pred)\n",
        "   roc_auc = auc(false_positive_rate, true_positive_rate)\n",
        "   train_results.append(roc_auc)\n",
        "   y_pred = model.predict(x_test)\n",
        "   false_positive_rate, true_positive_rate, thresholds = roc_curve(y_test, y_pred)\n",
        "   roc_auc = auc(false_positive_rate, true_positive_rate)\n",
        "   test_results.append(roc_auc)\n",
        "from matplotlib.legend_handler import HandlerLine2D\n",
        "line1, = plt.plot(distances, train_results, label=\"Train AUC\")\n",
        "line2, = plt.plot(distances, test_results, label=\"Test AUC\")\n",
        "plt.legend(handler_map={line1: HandlerLine2D(numpoints=2)})\n",
        "plt.ylabel(\"AUC score\")\n",
        "plt.xlabel(\"p\")\n",
        "plt.show()\n"
      ],
      "execution_count": null,
      "outputs": [
        {
          "output_type": "display_data",
          "data": {
            "image/png": "[encoded data removed]",
            "text/plain": [
              "<Figure size 432x288 with 1 Axes>"
            ]
          },
          "metadata": {
            "tags": []
          }
        }
      ]
    },
    {
      "cell_type": "code",
      "metadata": {
        "id": "h9f1nRTLxMHq"
      },
      "source": [
        ""
      ],
      "execution_count": null,
      "outputs": []
    },
    {
      "cell_type": "code",
      "metadata": {
        "colab": {
          "base_uri": "https://localhost:8080/"
        },
        "id": "sQGTWZ7d0QND",
        "outputId": "32c7fe8a-28ca-4f1a-dffb-db2b566f2511"
      },
      "source": [
        "gnb = GaussianNB()\n",
        "gnb.fit(X_train_scaled,y_train)\n",
        "print(gnb.score(X_train_scaled,y_train))\n",
        "gnb.score(X_test_scaled,y_test)"
      ],
      "execution_count": null,
      "outputs": [
        {
          "output_type": "stream",
          "text": [
            "0.8771031746031746\n"
          ],
          "name": "stdout"
        },
        {
          "output_type": "execute_result",
          "data": {
            "text/plain": [
              "0.876547619047619"
            ]
          },
          "metadata": {
            "tags": []
          },
          "execution_count": 20
        }
      ]
    },
    {
      "cell_type": "code",
      "metadata": {
        "colab": {
          "base_uri": "https://localhost:8080/"
        },
        "id": "T1D92UYm1JRN",
        "outputId": "3f93a4bb-b578-42b6-bb55-3e4c6f630272"
      },
      "source": [
        "roc_auc_score(y_test, gnb.predict_proba(x_test)[:, 1])"
      ],
      "execution_count": null,
      "outputs": [
        {
          "output_type": "execute_result",
          "data": {
            "text/plain": [
              "0.5"
            ]
          },
          "metadata": {
            "tags": []
          },
          "execution_count": 21
        }
      ]
    },
    {
      "cell_type": "code",
      "metadata": {
        "colab": {
          "base_uri": "https://localhost:8080/"
        },
        "id": "4PN2IkiG0dU2",
        "outputId": "eb781cb6-480d-4abf-be2e-cfb1a9dcbd5a"
      },
      "source": [
        "gbt= GradientBoostingClassifier(n_estimators = 300, learning_rate = 0.05)\n",
        "gbt.fit(x_train,y_train)\n",
        "print(gbt.score(x_train,y_train))\n",
        "gbt.score(x_test,y_test)"
      ],
      "execution_count": null,
      "outputs": [
        {
          "output_type": "stream",
          "text": [
            "0.8774206349206349\n"
          ],
          "name": "stdout"
        },
        {
          "output_type": "execute_result",
          "data": {
            "text/plain": [
              "0.8766269841269841"
            ]
          },
          "metadata": {
            "tags": []
          },
          "execution_count": 26
        }
      ]
    },
    {
      "cell_type": "code",
      "metadata": {
        "colab": {
          "base_uri": "https://localhost:8080/"
        },
        "id": "8YVmMrsv1Fng",
        "outputId": "4635f800-abdb-415f-ede1-3a463fccb0d3"
      },
      "source": [
        "roc_auc_score(y_test, gbt.predict_proba(x_test)[:, 1])"
      ],
      "execution_count": null,
      "outputs": [
        {
          "output_type": "execute_result",
          "data": {
            "text/plain": [
              "0.6694610152182487"
            ]
          },
          "metadata": {
            "tags": []
          },
          "execution_count": 27
        }
      ]
    },
    {
      "cell_type": "code",
      "metadata": {
        "colab": {
          "base_uri": "https://localhost:8080/"
        },
        "id": "LFfY254E0jG4",
        "outputId": "742db173-3ef8-4f7a-ee3d-ef5e98b01e2c"
      },
      "source": [
        "abc = AdaBoostClassifier(n_estimators=100, random_state=0)\n",
        "abc.fit(x_train, y_train)"
      ],
      "execution_count": null,
      "outputs": [
        {
          "output_type": "execute_result",
          "data": {
            "text/plain": [
              "AdaBoostClassifier(algorithm='SAMME.R', base_estimator=None, learning_rate=1.0,\n",
              "                   n_estimators=100, random_state=0)"
            ]
          },
          "metadata": {
            "tags": []
          },
          "execution_count": 28
        }
      ]
    },
    {
      "cell_type": "code",
      "metadata": {
        "colab": {
          "base_uri": "https://localhost:8080/"
        },
        "id": "mbRao22N0tNy",
        "outputId": "e14166aa-81e6-471d-c905-662cf6b32f05"
      },
      "source": [
        "print(abc.score(x_train,y_train))\n",
        "print(abc.score(x_test,y_test))"
      ],
      "execution_count": null,
      "outputs": [
        {
          "output_type": "stream",
          "text": [
            "0.8773214285714286\n",
            "0.8766666666666667\n"
          ],
          "name": "stdout"
        }
      ]
    },
    {
      "cell_type": "code",
      "metadata": {
        "colab": {
          "base_uri": "https://localhost:8080/"
        },
        "id": "RXcqJqrZ06vw",
        "outputId": "1a5d12a5-ce2c-4538-db19-241bf2258fa9"
      },
      "source": [
        "roc_auc_score(y_test,abc.predict_proba(x_test)[:, 1])"
      ],
      "execution_count": null,
      "outputs": [
        {
          "output_type": "execute_result",
          "data": {
            "text/plain": [
              "0.5950256406249002"
            ]
          },
          "metadata": {
            "tags": []
          },
          "execution_count": 30
        }
      ]
    },
    {
      "cell_type": "code",
      "metadata": {
        "colab": {
          "base_uri": "https://localhost:8080/"
        },
        "id": "qgY1prmc1CXv",
        "outputId": "c410f9c3-e7a0-40ea-ad6f-0c2e861e2cae"
      },
      "source": [
        "xgb = XGBClassifier(learning_rate=0.001, n_estimators=200)\n",
        "xgb.fit(x_train, y_train)\n",
        "print(xgb.score(x_train,y_train))\n",
        "xgb.score(x_test,y_test)"
      ],
      "execution_count": null,
      "outputs": [
        {
          "output_type": "stream",
          "text": [
            "0.8772619047619048\n"
          ],
          "name": "stdout"
        },
        {
          "output_type": "execute_result",
          "data": {
            "text/plain": [
              "0.876547619047619"
            ]
          },
          "metadata": {
            "tags": []
          },
          "execution_count": 101
        }
      ]
    },
    {
      "cell_type": "code",
      "metadata": {
        "colab": {
          "base_uri": "https://localhost:8080/"
        },
        "id": "AZDdGOgy1caM",
        "outputId": "d31b9584-d2d5-4e5d-eba6-5e3c781ffe64"
      },
      "source": [
        "roc_auc_score(y_test,xgb.predict(x_test))"
      ],
      "execution_count": null,
      "outputs": [
        {
          "output_type": "execute_result",
          "data": {
            "text/plain": [
              "0.5001380843246875"
            ]
          },
          "metadata": {
            "tags": []
          },
          "execution_count": 102
        }
      ]
    },
    {
      "cell_type": "code",
      "metadata": {
        "id": "bWkiF_4zCuM1"
      },
      "source": [
        "def modelfit(alg, dtrain, predictors, useTrainCV=True, cv_folds=5, early_stopping_rounds=50):\n",
        "    \n",
        "    if useTrainCV:\n",
        "        xgb_param = alg.get_xgb_params()\n",
        "        xgtrain = xgb.DMatrix(dtrain[predictors].values, label=dtrain[target].values)\n",
        "        cvresult = xgb.cv(xgb_param, xgtrain, num_boost_round=alg.get_params()['n_estimators'], nfold=cv_folds,\n",
        "            metrics='auc', early_stopping_rounds=early_stopping_rounds, show_progress=False)\n",
        "        alg.set_params(n_estimators=cvresult.shape[0])\n",
        "    \n",
        "    #Fit the algorithm on the data\n",
        "    alg.fit(dtrain[predictors], dtrain['Disbursed'],eval_metric='auc')\n",
        "        \n",
        "    #Predict training set:\n",
        "    dtrain_predictions = alg.predict(dtrain[predictors])\n",
        "    dtrain_predprob = alg.predict_proba(dtrain[predictors])[:,1]\n",
        "        \n",
        "    #Print model report:\n",
        "    print(\"\\nModel Report\")\n",
        "    print(\"Accuracy : %.4g\" % metrics.accuracy_score(dtrain['Disbursed'].values, dtrain_predictions))\n",
        "    print(\"AUC Score (Train): %f\" % metrics.roc_auc_score(dtrain['Disbursed'], dtrain_predprob))\n",
        "                    \n",
        "    feat_imp = pd.Series(alg.booster().get_fscore()).sort_values(ascending=False)\n",
        "    feat_imp.plot(kind='bar', title='Feature Importances')\n",
        "    plt.ylabel('Feature Importance Score')"
      ],
      "execution_count": null,
      "outputs": []
    },
    {
      "cell_type": "code",
      "metadata": {
        "colab": {
          "base_uri": "https://localhost:8080/"
        },
        "id": "7lyCCT8lEDLK",
        "outputId": "bfae9ea3-2341-4cd1-db6f-6587150f9058"
      },
      "source": [
        "xgb1 = XGBClassifier(\n",
        " learning_rate =0.1,\n",
        " n_estimators=3000,\n",
        " max_depth=9,\n",
        " min_child_weight=1,\n",
        " gamma=0,\n",
        " subsample=0.8,\n",
        " colsample_bytree=0.8,\n",
        " objective= 'binary:logistic',\n",
        " nthread=4,\n",
        " scale_pos_weight=1,\n",
        " seed=27)\n",
        "xgb1.fit(x_train,y_train)"
      ],
      "execution_count": null,
      "outputs": [
        {
          "output_type": "execute_result",
          "data": {
            "text/plain": [
              "XGBClassifier(base_score=0.5, booster='gbtree', colsample_bylevel=1,\n",
              "              colsample_bynode=1, colsample_bytree=0.8, gamma=0,\n",
              "              learning_rate=0.1, max_delta_step=0, max_depth=9,\n",
              "              min_child_weight=1, missing=None, n_estimators=3000, n_jobs=1,\n",
              "              nthread=4, objective='binary:logistic', random_state=0,\n",
              "              reg_alpha=0, reg_lambda=1, scale_pos_weight=1, seed=27,\n",
              "              silent=None, subsample=0.8, verbosity=1)"
            ]
          },
          "metadata": {
            "tags": []
          },
          "execution_count": 146
        }
      ]
    },
    {
      "cell_type": "code",
      "metadata": {
        "colab": {
          "base_uri": "https://localhost:8080/"
        },
        "id": "wnMG-09xQsUw",
        "outputId": "56ce5138-4772-46f8-ee4e-b16d88ebfe09"
      },
      "source": [
        "print(xgb1.score(x_train,y_train))\n",
        "print(xgb1.score(x_test,y_test))"
      ],
      "execution_count": null,
      "outputs": [
        {
          "output_type": "stream",
          "text": [
            "0.9396626984126984\n",
            "0.8978174603174603\n"
          ],
          "name": "stdout"
        }
      ]
    },
    {
      "cell_type": "code",
      "metadata": {
        "colab": {
          "base_uri": "https://localhost:8080/"
        },
        "id": "-2iedjY0Q-QV",
        "outputId": "af985214-8bab-4aaa-9ce2-cd3b88fc8121"
      },
      "source": [
        "roc_auc_score(y_test,xgb1.predict(x_test))"
      ],
      "execution_count": null,
      "outputs": [
        {
          "output_type": "execute_result",
          "data": {
            "text/plain": [
              "0.7311344747052697"
            ]
          },
          "metadata": {
            "tags": []
          },
          "execution_count": 148
        }
      ]
    },
    {
      "cell_type": "code",
      "metadata": {
        "id": "6QQ0pb0zRUrg"
      },
      "source": [
        ""
      ],
      "execution_count": null,
      "outputs": []
    },
    {
      "cell_type": "code",
      "metadata": {
        "id": "WaSVQmx9bUeV"
      },
      "source": [
        "# LinearSVC_classifier.fit(x_train,y_train)\n"
      ],
      "execution_count": null,
      "outputs": []
    },
    {
      "cell_type": "code",
      "metadata": {
        "id": "4-I4VBIPcJ0K"
      },
      "source": [
        "# print(\"Training accuracy=\",LinearSVC_classifier.score(x_train,y_train))\n",
        "# print(\"Testing accurcay=\",LinearSVC_classifier.score(x_test,y_test))"
      ],
      "execution_count": null,
      "outputs": []
    },
    {
      "cell_type": "code",
      "metadata": {
        "id": "jRthS38hM6Lo"
      },
      "source": [
        "# y_test=(y_test).to_numpy()"
      ],
      "execution_count": null,
      "outputs": []
    },
    {
      "cell_type": "code",
      "metadata": {
        "id": "5fHQSeW7vOF1"
      },
      "source": [
        "# roc_auc_score(y_test,LinearSVC_classifier.predict_proba(x_test)[:, 1])\n"
      ],
      "execution_count": null,
      "outputs": []
    },
    {
      "cell_type": "code",
      "metadata": {
        "id": "tRO-6FRtMXCJ"
      },
      "source": [
        "#best\n",
        "predict_val1 = rfc.predict(val_train)\n",
        "predict_val2 = knn.predict(val_train)\n",
        "predict_val3 = xgb1.predict(val_train)"
      ],
      "execution_count": null,
      "outputs": []
    },
    {
      "cell_type": "code",
      "metadata": {
        "colab": {
          "base_uri": "https://localhost:8080/"
        },
        "id": "HAGro43uM-fk",
        "outputId": "38f674dc-721e-41b6-ecae-623ff4576692"
      },
      "source": [
        "predict_val = np.column_stack((predict_val1,predict_val2,predict_val3))\n",
        "predict_val"
      ],
      "execution_count": null,
      "outputs": [
        {
          "output_type": "execute_result",
          "data": {
            "text/plain": [
              "array([[0, 0, 0],\n",
              "       [0, 0, 0],\n",
              "       [0, 0, 0],\n",
              "       ...,\n",
              "       [0, 0, 0],\n",
              "       [0, 0, 0],\n",
              "       [0, 0, 0]])"
            ]
          },
          "metadata": {
            "tags": []
          },
          "execution_count": 154
        }
      ]
    },
    {
      "cell_type": "code",
      "metadata": {
        "id": "8loZK0BN5haL"
      },
      "source": [
        "predict_test1 = rfc.predict(x_test)\n",
        "predict_test2 = knn.predict(x_test)\n",
        "predict_test3 = xgb1.predict(x_test)"
      ],
      "execution_count": null,
      "outputs": []
    },
    {
      "cell_type": "code",
      "metadata": {
        "id": "QYlkIp4C5lGh"
      },
      "source": [
        "predict_test = np.column_stack((predict_test1,predict_test2,predict_test3))"
      ],
      "execution_count": null,
      "outputs": []
    },
    {
      "cell_type": "code",
      "metadata": {
        "colab": {
          "base_uri": "https://localhost:8080/"
        },
        "id": "on31SEj-5rMz",
        "outputId": "6602b86a-b857-4018-96dc-dc2761cda4c3"
      },
      "source": [
        "rand_clf = RandomForestClassifier()\n",
        "\n",
        "rand_clf.fit(predict_val,val_test)\n",
        "rand_clf.score(predict_test,y_test)"
      ],
      "execution_count": null,
      "outputs": [
        {
          "output_type": "execute_result",
          "data": {
            "text/plain": [
              "0.898452380952381"
            ]
          },
          "metadata": {
            "tags": []
          },
          "execution_count": 160
        }
      ]
    },
    {
      "cell_type": "code",
      "metadata": {
        "id": "eV18TnxR1PW9"
      },
      "source": [
        "# we are tuning three hyperparameters right now, we are passing the different values for both parameters\n",
        "# grid_param = {\n",
        "#     \"n_estimators\" : [90,100,115,130,150,200],\n",
        "#     'criterion': ['gini', 'entropy'],\n",
        "#     'min_samples_leaf' : [1,2,3,4,5,6,7],\n",
        "#     'min_samples_split': [1,2,3,4,5,6,7,8],\n",
        "#     'max_features' : ['auto','log2']\n",
        "# }\n",
        "# grid_search = GridSearchCV(estimator=rand_clf,param_grid=grid_param,cv=5,n_jobs =-1,verbose = 3)"
      ],
      "execution_count": null,
      "outputs": []
    },
    {
      "cell_type": "code",
      "metadata": {
        "id": "xqH-px-y5uMh"
      },
      "source": [
        "#grid_search.fit(predict_val,val_test)"
      ],
      "execution_count": null,
      "outputs": []
    },
    {
      "cell_type": "code",
      "metadata": {
        "id": "CGp7PaXI6Bi5"
      },
      "source": [
        "# print(grid_search.best_score_)\n",
        "# grid_search.best_params_"
      ],
      "execution_count": null,
      "outputs": []
    },
    {
      "cell_type": "code",
      "metadata": {
        "id": "1OtiXLFY9s67"
      },
      "source": [
        "predict_val=pd.DataFrame(data=predict_val)\n",
        "predict_val.to_csv('jhsj.csv')"
      ],
      "execution_count": null,
      "outputs": []
    },
    {
      "cell_type": "code",
      "metadata": {
        "colab": {
          "background_save": true
        },
        "id": "B53OJhH4Az6W"
      },
      "source": [
        "predic_rfc=pd.DataFrame()\n",
        "for i in range(len(test_data)):\n",
        "  df=test_data.iloc[[i]]\n",
        "  df=df.to_numpy()\n",
        "  pred_val=rfc.predict(df)\n",
        "  pred_val=pd.DataFrame(pred_val)\n",
        "  predic_rfc=predic_rfc.append(pred_val,ignore_index=True)"
      ],
      "execution_count": null,
      "outputs": []
    },
    {
      "cell_type": "code",
      "metadata": {
        "colab": {
          "background_save": true
        },
        "id": "DrBPmLEuCMAY"
      },
      "source": [
        "predic_knn=pd.DataFrame()\n",
        "for i in range(len(test_data)):\n",
        "  df=test_data.iloc[[i]]\n",
        "  df=df.to_numpy()\n",
        "  pred_val=knn.predict(df)\n",
        "  pred_val=pd.DataFrame(pred_val)\n",
        "  predic_knn=predic_knn.append(pred_val,ignore_index=True)"
      ],
      "execution_count": null,
      "outputs": []
    },
    {
      "cell_type": "code",
      "metadata": {
        "id": "-8X48VPSCl6L"
      },
      "source": [
        "predic_xgb=pd.DataFrame()\n",
        "for i in range(len(test_data)):\n",
        "  df=test_data.iloc[[i]]\n",
        "  pred_val=xgb1.predict(df)\n",
        "  pred_val=pd.DataFrame(pred_val)\n",
        "  predic_xgb=predic_xgb.append(pred_val,ignore_index=True)"
      ],
      "execution_count": null,
      "outputs": []
    },
    {
      "cell_type": "code",
      "metadata": {
        "colab": {
          "base_uri": "https://localhost:8080/",
          "height": 402
        },
        "id": "ei7jXIf8FdZD",
        "outputId": "6ca4dfa3-93cf-4a4b-bbc0-130656ccc98b"
      },
      "source": [
        "predic_xgb"
      ],
      "execution_count": null,
      "outputs": [
        {
          "output_type": "execute_result",
          "data": {
            "text/html": [
              "<div>\n",
              "<style scoped>\n",
              "    .dataframe tbody tr th:only-of-type {\n",
              "        vertical-align: middle;\n",
              "    }\n",
              "\n",
              "    .dataframe tbody tr th {\n",
              "        vertical-align: top;\n",
              "    }\n",
              "\n",
              "    .dataframe thead th {\n",
              "        text-align: right;\n",
              "    }\n",
              "</style>\n",
              "<table border=\"1\" class=\"dataframe\">\n",
              "  <thead>\n",
              "    <tr style=\"text-align: right;\">\n",
              "      <th></th>\n",
              "      <th>0</th>\n",
              "    </tr>\n",
              "  </thead>\n",
              "  <tbody>\n",
              "    <tr>\n",
              "      <th>0</th>\n",
              "      <td>0</td>\n",
              "    </tr>\n",
              "    <tr>\n",
              "      <th>1</th>\n",
              "      <td>0</td>\n",
              "    </tr>\n",
              "    <tr>\n",
              "      <th>2</th>\n",
              "      <td>0</td>\n",
              "    </tr>\n",
              "    <tr>\n",
              "      <th>3</th>\n",
              "      <td>0</td>\n",
              "    </tr>\n",
              "    <tr>\n",
              "      <th>4</th>\n",
              "      <td>0</td>\n",
              "    </tr>\n",
              "    <tr>\n",
              "      <th>...</th>\n",
              "      <td>...</td>\n",
              "    </tr>\n",
              "    <tr>\n",
              "      <th>27995</th>\n",
              "      <td>0</td>\n",
              "    </tr>\n",
              "    <tr>\n",
              "      <th>27996</th>\n",
              "      <td>0</td>\n",
              "    </tr>\n",
              "    <tr>\n",
              "      <th>27997</th>\n",
              "      <td>0</td>\n",
              "    </tr>\n",
              "    <tr>\n",
              "      <th>27998</th>\n",
              "      <td>0</td>\n",
              "    </tr>\n",
              "    <tr>\n",
              "      <th>27999</th>\n",
              "      <td>0</td>\n",
              "    </tr>\n",
              "  </tbody>\n",
              "</table>\n",
              "<p>28000 rows × 1 columns</p>\n",
              "</div>"
            ],
            "text/plain": [
              "       0\n",
              "0      0\n",
              "1      0\n",
              "2      0\n",
              "3      0\n",
              "4      0\n",
              "...   ..\n",
              "27995  0\n",
              "27996  0\n",
              "27997  0\n",
              "27998  0\n",
              "27999  0\n",
              "\n",
              "[28000 rows x 1 columns]"
            ]
          },
          "metadata": {
            "tags": []
          },
          "execution_count": 50
        }
      ]
    },
    {
      "cell_type": "code",
      "metadata": {
        "id": "qQUy6y8-Ir83"
      },
      "source": [
        "predic_rfc.to_csv('predctions(rfc_new).csv')"
      ],
      "execution_count": null,
      "outputs": []
    },
    {
      "cell_type": "code",
      "metadata": {
        "id": "ZoHQxAGkJB99"
      },
      "source": [
        ""
      ],
      "execution_count": null,
      "outputs": []
    },
    {
      "cell_type": "code",
      "metadata": {
        "id": "twCwG8I2Fw8C"
      },
      "source": [
        "predict_val_meta = np.column_stack((predic_rfc,predic_knn,predic_xgb))"
      ],
      "execution_count": null,
      "outputs": []
    },
    {
      "cell_type": "code",
      "metadata": {
        "id": "1LZgZf98GFyl"
      },
      "source": [
        "predictions=rand_clf.predict(predict_val_meta)"
      ],
      "execution_count": null,
      "outputs": []
    },
    {
      "cell_type": "code",
      "metadata": {
        "id": "ax86xOCiG_b-"
      },
      "source": [
        "predictions=pd.DataFrame(data=predictions)"
      ],
      "execution_count": null,
      "outputs": []
    },
    {
      "cell_type": "code",
      "metadata": {
        "id": "qvCOhmf3GMPl"
      },
      "source": [
        "predictions.to_csv('predictions(stacking_new).csv')"
      ],
      "execution_count": null,
      "outputs": []
    },
    {
      "cell_type": "code",
      "metadata": {
        "id": "qhsETzEeG827"
      },
      "source": [
        ""
      ],
      "execution_count": null,
      "outputs": []
    }
  ]
}